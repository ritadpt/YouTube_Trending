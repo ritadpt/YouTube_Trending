{
 "cells": [
  {
   "cell_type": "markdown",
   "id": "9ce388b8",
   "metadata": {},
   "source": [
    "#1.Youtube Trends Data Cleaning"
   ]
  },
  {
   "cell_type": "code",
   "execution_count": 1,
   "id": "73131b23",
   "metadata": {},
   "outputs": [],
   "source": [
    "#import libraries\n",
    "import pandas as pd\n",
    "import numpy as np\n",
    "import os"
   ]
  },
  {
   "cell_type": "code",
   "execution_count": 2,
   "id": "d71c85d7",
   "metadata": {},
   "outputs": [],
   "source": [
    "#set path\n",
    "path=r'C:\\Users\\EliteMini HX90\\OneDrive\\Documents\\CareerFoundry\\Achievement_6'"
   ]
  },
  {
   "cell_type": "code",
   "execution_count": 3,
   "id": "c3cf25b4",
   "metadata": {},
   "outputs": [],
   "source": [
    "#import dataset\n",
    "df=pd.read_csv(os.path.join(path, '02_Data','01_Original_Data','trending_yt_videos_113_countries.csv'), index_col=False)"
   ]
  },
  {
   "cell_type": "code",
   "execution_count": 4,
   "id": "d311d917",
   "metadata": {},
   "outputs": [
    {
     "data": {
      "text/plain": [
       "(197757, 18)"
      ]
     },
     "execution_count": 4,
     "metadata": {},
     "output_type": "execute_result"
    }
   ],
   "source": [
    "df.shape"
   ]
  },
  {
   "cell_type": "code",
   "execution_count": 5,
   "id": "54e63c64",
   "metadata": {},
   "outputs": [
    {
     "data": {
      "text/plain": [
       "Index(['title', 'channel_name', 'daily_rank', 'daily_movement',\n",
       "       'weekly_movement', 'snapshot_date', 'country', 'view_count',\n",
       "       'like_count', 'comment_count', 'description', 'thumbnail_url',\n",
       "       'video_id', 'channel_id', 'video_tags', 'kind', 'publish_date',\n",
       "       'langauge'],\n",
       "      dtype='object')"
      ]
     },
     "execution_count": 5,
     "metadata": {},
     "output_type": "execute_result"
    }
   ],
   "source": [
    "df.columns"
   ]
  },
  {
   "cell_type": "code",
   "execution_count": 6,
   "id": "6be7864f",
   "metadata": {},
   "outputs": [],
   "source": [
    "#rename mispelled column \n",
    "df.rename(columns={'langauge':'language'}, inplace=True)"
   ]
  },
  {
   "cell_type": "code",
   "execution_count": 7,
   "id": "b06462dc",
   "metadata": {},
   "outputs": [
    {
     "data": {
      "text/plain": [
       "Index(['title', 'channel_name', 'daily_rank', 'daily_movement',\n",
       "       'weekly_movement', 'snapshot_date', 'country', 'view_count',\n",
       "       'like_count', 'comment_count', 'description', 'thumbnail_url',\n",
       "       'video_id', 'channel_id', 'video_tags', 'kind', 'publish_date',\n",
       "       'language'],\n",
       "      dtype='object')"
      ]
     },
     "execution_count": 7,
     "metadata": {},
     "output_type": "execute_result"
    }
   ],
   "source": [
    "df.columns"
   ]
  },
  {
   "cell_type": "code",
   "execution_count": 8,
   "id": "f7785767",
   "metadata": {},
   "outputs": [
    {
     "data": {
      "text/html": [
       "<div>\n",
       "<style scoped>\n",
       "    .dataframe tbody tr th:only-of-type {\n",
       "        vertical-align: middle;\n",
       "    }\n",
       "\n",
       "    .dataframe tbody tr th {\n",
       "        vertical-align: top;\n",
       "    }\n",
       "\n",
       "    .dataframe thead th {\n",
       "        text-align: right;\n",
       "    }\n",
       "</style>\n",
       "<table border=\"1\" class=\"dataframe\">\n",
       "  <thead>\n",
       "    <tr style=\"text-align: right;\">\n",
       "      <th></th>\n",
       "      <th>title</th>\n",
       "      <th>channel_name</th>\n",
       "      <th>daily_rank</th>\n",
       "      <th>daily_movement</th>\n",
       "      <th>weekly_movement</th>\n",
       "      <th>snapshot_date</th>\n",
       "      <th>country</th>\n",
       "      <th>view_count</th>\n",
       "      <th>like_count</th>\n",
       "      <th>comment_count</th>\n",
       "      <th>description</th>\n",
       "      <th>thumbnail_url</th>\n",
       "      <th>video_id</th>\n",
       "      <th>channel_id</th>\n",
       "      <th>video_tags</th>\n",
       "      <th>kind</th>\n",
       "      <th>publish_date</th>\n",
       "      <th>language</th>\n",
       "    </tr>\n",
       "  </thead>\n",
       "  <tbody>\n",
       "    <tr>\n",
       "      <th>0</th>\n",
       "      <td>Freeman HKD, Nox, Tyfah Guni - Man To Man (Off...</td>\n",
       "      <td>FreemanHKDVEVO</td>\n",
       "      <td>1</td>\n",
       "      <td>0</td>\n",
       "      <td>0</td>\n",
       "      <td>2023-11-29</td>\n",
       "      <td>ZW</td>\n",
       "      <td>659445</td>\n",
       "      <td>12525</td>\n",
       "      <td>1154</td>\n",
       "      <td>Produced By: Spirit Fingerz\\nMixed &amp;Mastered B...</td>\n",
       "      <td>https://i.ytimg.com/vi/nOjbJdw2dPs/mqdefault.jpg</td>\n",
       "      <td>nOjbJdw2dPs</td>\n",
       "      <td>UCBqFAZ41zHq5h5-7A1YpiuQ</td>\n",
       "      <td>Freeman, HKD, Nox, Tyfah, Guni, Man, (Official...</td>\n",
       "      <td>youtube#video</td>\n",
       "      <td>2023-11-02 00:00:00+00:00</td>\n",
       "      <td>NaN</td>\n",
       "    </tr>\n",
       "    <tr>\n",
       "      <th>1</th>\n",
       "      <td>Nutty O - Jericho ft. BLING4 &amp; Bagga</td>\n",
       "      <td>NuttyOVEVO</td>\n",
       "      <td>2</td>\n",
       "      <td>0</td>\n",
       "      <td>48</td>\n",
       "      <td>2023-11-29</td>\n",
       "      <td>ZW</td>\n",
       "      <td>96852</td>\n",
       "      <td>6361</td>\n",
       "      <td>795</td>\n",
       "      <td>Jericho\\nby Nutty O (feat. BLING4 &amp; Bagga) \\nP...</td>\n",
       "      <td>https://i.ytimg.com/vi/7g71VmQzyD4/mqdefault.jpg</td>\n",
       "      <td>7g71VmQzyD4</td>\n",
       "      <td>UCwY1uVRu0ML4wWBm9pGZy_g</td>\n",
       "      <td>Jericho, BLING4, Bagga, Ragga-Soca, reggae, po...</td>\n",
       "      <td>youtube#video</td>\n",
       "      <td>2023-11-23 00:00:00+00:00</td>\n",
       "      <td>NaN</td>\n",
       "    </tr>\n",
       "    <tr>\n",
       "      <th>2</th>\n",
       "      <td>Kamo Mphela, Khalil Harrison &amp; Tyler ICU - Dal...</td>\n",
       "      <td>Kamo Mphelaxx</td>\n",
       "      <td>3</td>\n",
       "      <td>0</td>\n",
       "      <td>47</td>\n",
       "      <td>2023-11-29</td>\n",
       "      <td>ZW</td>\n",
       "      <td>1236824</td>\n",
       "      <td>41518</td>\n",
       "      <td>1290</td>\n",
       "      <td>The Official Music Video for Kamo Mphela, Khal...</td>\n",
       "      <td>https://i.ytimg.com/vi/hcqcy6cdCw8/mqdefault.jpg</td>\n",
       "      <td>hcqcy6cdCw8</td>\n",
       "      <td>UCfYbXQVQZYoISJzqBdH15Eg</td>\n",
       "      <td>kamo mphela, tyler icu, dalie, Mnike, Amapiano...</td>\n",
       "      <td>youtube#video</td>\n",
       "      <td>2023-11-22 00:00:00+00:00</td>\n",
       "      <td>NaN</td>\n",
       "    </tr>\n",
       "    <tr>\n",
       "      <th>3</th>\n",
       "      <td>Garnacho UNBELIEVABLE Overhead Kick! 🤩 | Evert...</td>\n",
       "      <td>Manchester United</td>\n",
       "      <td>4</td>\n",
       "      <td>1</td>\n",
       "      <td>46</td>\n",
       "      <td>2023-11-29</td>\n",
       "      <td>ZW</td>\n",
       "      <td>6607439</td>\n",
       "      <td>153575</td>\n",
       "      <td>5580</td>\n",
       "      <td>United picked up 3️⃣ points at Goodison Park o...</td>\n",
       "      <td>https://i.ytimg.com/vi/qgmhQZzoy1s/mqdefault.jpg</td>\n",
       "      <td>qgmhQZzoy1s</td>\n",
       "      <td>UC6yW44UGJJBvYTlfC7CRg2Q</td>\n",
       "      <td>manchester united, mufc, man utd, manutd, mu, ...</td>\n",
       "      <td>youtube#video</td>\n",
       "      <td>2023-11-26 00:00:00+00:00</td>\n",
       "      <td>en-GB</td>\n",
       "    </tr>\n",
       "    <tr>\n",
       "      <th>4</th>\n",
       "      <td>Drake - First Person Shooter ft. J. Cole</td>\n",
       "      <td>DrakeVEVO</td>\n",
       "      <td>5</td>\n",
       "      <td>-1</td>\n",
       "      <td>-3</td>\n",
       "      <td>2023-11-29</td>\n",
       "      <td>ZW</td>\n",
       "      <td>19193308</td>\n",
       "      <td>858667</td>\n",
       "      <td>36413</td>\n",
       "      <td>Listen to For All The Dogs Scary Hours Edition...</td>\n",
       "      <td>https://i.ytimg.com/vi/Xty2gi5cMa8/mqdefault.jpg</td>\n",
       "      <td>Xty2gi5cMa8</td>\n",
       "      <td>UCQznUf1SjfDqx65hX3zRDiA</td>\n",
       "      <td>Drake, First, Person, Shooter, OVO/Republic, H...</td>\n",
       "      <td>youtube#video</td>\n",
       "      <td>2023-11-15 00:00:00+00:00</td>\n",
       "      <td>en</td>\n",
       "    </tr>\n",
       "  </tbody>\n",
       "</table>\n",
       "</div>"
      ],
      "text/plain": [
       "                                               title       channel_name  \\\n",
       "0  Freeman HKD, Nox, Tyfah Guni - Man To Man (Off...     FreemanHKDVEVO   \n",
       "1               Nutty O - Jericho ft. BLING4 & Bagga         NuttyOVEVO   \n",
       "2  Kamo Mphela, Khalil Harrison & Tyler ICU - Dal...      Kamo Mphelaxx   \n",
       "3  Garnacho UNBELIEVABLE Overhead Kick! 🤩 | Evert...  Manchester United   \n",
       "4           Drake - First Person Shooter ft. J. Cole          DrakeVEVO   \n",
       "\n",
       "   daily_rank  daily_movement  weekly_movement snapshot_date country  \\\n",
       "0           1               0                0    2023-11-29      ZW   \n",
       "1           2               0               48    2023-11-29      ZW   \n",
       "2           3               0               47    2023-11-29      ZW   \n",
       "3           4               1               46    2023-11-29      ZW   \n",
       "4           5              -1               -3    2023-11-29      ZW   \n",
       "\n",
       "   view_count  like_count  comment_count  \\\n",
       "0      659445       12525           1154   \n",
       "1       96852        6361            795   \n",
       "2     1236824       41518           1290   \n",
       "3     6607439      153575           5580   \n",
       "4    19193308      858667          36413   \n",
       "\n",
       "                                         description  \\\n",
       "0  Produced By: Spirit Fingerz\\nMixed &Mastered B...   \n",
       "1  Jericho\\nby Nutty O (feat. BLING4 & Bagga) \\nP...   \n",
       "2  The Official Music Video for Kamo Mphela, Khal...   \n",
       "3  United picked up 3️⃣ points at Goodison Park o...   \n",
       "4  Listen to For All The Dogs Scary Hours Edition...   \n",
       "\n",
       "                                      thumbnail_url     video_id  \\\n",
       "0  https://i.ytimg.com/vi/nOjbJdw2dPs/mqdefault.jpg  nOjbJdw2dPs   \n",
       "1  https://i.ytimg.com/vi/7g71VmQzyD4/mqdefault.jpg  7g71VmQzyD4   \n",
       "2  https://i.ytimg.com/vi/hcqcy6cdCw8/mqdefault.jpg  hcqcy6cdCw8   \n",
       "3  https://i.ytimg.com/vi/qgmhQZzoy1s/mqdefault.jpg  qgmhQZzoy1s   \n",
       "4  https://i.ytimg.com/vi/Xty2gi5cMa8/mqdefault.jpg  Xty2gi5cMa8   \n",
       "\n",
       "                 channel_id  \\\n",
       "0  UCBqFAZ41zHq5h5-7A1YpiuQ   \n",
       "1  UCwY1uVRu0ML4wWBm9pGZy_g   \n",
       "2  UCfYbXQVQZYoISJzqBdH15Eg   \n",
       "3  UC6yW44UGJJBvYTlfC7CRg2Q   \n",
       "4  UCQznUf1SjfDqx65hX3zRDiA   \n",
       "\n",
       "                                          video_tags           kind  \\\n",
       "0  Freeman, HKD, Nox, Tyfah, Guni, Man, (Official...  youtube#video   \n",
       "1  Jericho, BLING4, Bagga, Ragga-Soca, reggae, po...  youtube#video   \n",
       "2  kamo mphela, tyler icu, dalie, Mnike, Amapiano...  youtube#video   \n",
       "3  manchester united, mufc, man utd, manutd, mu, ...  youtube#video   \n",
       "4  Drake, First, Person, Shooter, OVO/Republic, H...  youtube#video   \n",
       "\n",
       "                publish_date language  \n",
       "0  2023-11-02 00:00:00+00:00      NaN  \n",
       "1  2023-11-23 00:00:00+00:00      NaN  \n",
       "2  2023-11-22 00:00:00+00:00      NaN  \n",
       "3  2023-11-26 00:00:00+00:00    en-GB  \n",
       "4  2023-11-15 00:00:00+00:00       en  "
      ]
     },
     "execution_count": 8,
     "metadata": {},
     "output_type": "execute_result"
    }
   ],
   "source": [
    "df.head()"
   ]
  },
  {
   "cell_type": "code",
   "execution_count": 9,
   "id": "45b0f0cd",
   "metadata": {},
   "outputs": [
    {
     "data": {
      "text/html": [
       "<div>\n",
       "<style scoped>\n",
       "    .dataframe tbody tr th:only-of-type {\n",
       "        vertical-align: middle;\n",
       "    }\n",
       "\n",
       "    .dataframe tbody tr th {\n",
       "        vertical-align: top;\n",
       "    }\n",
       "\n",
       "    .dataframe thead th {\n",
       "        text-align: right;\n",
       "    }\n",
       "</style>\n",
       "<table border=\"1\" class=\"dataframe\">\n",
       "  <thead>\n",
       "    <tr style=\"text-align: right;\">\n",
       "      <th></th>\n",
       "      <th>daily_rank</th>\n",
       "      <th>daily_movement</th>\n",
       "      <th>weekly_movement</th>\n",
       "      <th>view_count</th>\n",
       "      <th>like_count</th>\n",
       "      <th>comment_count</th>\n",
       "    </tr>\n",
       "  </thead>\n",
       "  <tbody>\n",
       "    <tr>\n",
       "      <th>count</th>\n",
       "      <td>197757.000000</td>\n",
       "      <td>197757.000000</td>\n",
       "      <td>197757.000000</td>\n",
       "      <td>1.977570e+05</td>\n",
       "      <td>1.977570e+05</td>\n",
       "      <td>197757.000000</td>\n",
       "    </tr>\n",
       "    <tr>\n",
       "      <th>mean</th>\n",
       "      <td>25.500771</td>\n",
       "      <td>3.369292</td>\n",
       "      <td>19.905141</td>\n",
       "      <td>8.681297e+06</td>\n",
       "      <td>3.066996e+05</td>\n",
       "      <td>8041.094834</td>\n",
       "    </tr>\n",
       "    <tr>\n",
       "      <th>std</th>\n",
       "      <td>14.431243</td>\n",
       "      <td>19.823211</td>\n",
       "      <td>19.247727</td>\n",
       "      <td>1.851627e+07</td>\n",
       "      <td>7.169108e+05</td>\n",
       "      <td>32774.369653</td>\n",
       "    </tr>\n",
       "    <tr>\n",
       "      <th>min</th>\n",
       "      <td>1.000000</td>\n",
       "      <td>-49.000000</td>\n",
       "      <td>-49.000000</td>\n",
       "      <td>0.000000e+00</td>\n",
       "      <td>0.000000e+00</td>\n",
       "      <td>0.000000</td>\n",
       "    </tr>\n",
       "    <tr>\n",
       "      <th>25%</th>\n",
       "      <td>13.000000</td>\n",
       "      <td>-9.000000</td>\n",
       "      <td>7.000000</td>\n",
       "      <td>3.580290e+05</td>\n",
       "      <td>1.132800e+04</td>\n",
       "      <td>390.000000</td>\n",
       "    </tr>\n",
       "    <tr>\n",
       "      <th>50%</th>\n",
       "      <td>26.000000</td>\n",
       "      <td>-1.000000</td>\n",
       "      <td>21.000000</td>\n",
       "      <td>1.269470e+06</td>\n",
       "      <td>4.472300e+04</td>\n",
       "      <td>1193.000000</td>\n",
       "    </tr>\n",
       "    <tr>\n",
       "      <th>75%</th>\n",
       "      <td>38.000000</td>\n",
       "      <td>15.000000</td>\n",
       "      <td>35.000000</td>\n",
       "      <td>6.643707e+06</td>\n",
       "      <td>2.468800e+05</td>\n",
       "      <td>3855.000000</td>\n",
       "    </tr>\n",
       "    <tr>\n",
       "      <th>max</th>\n",
       "      <td>50.000000</td>\n",
       "      <td>49.000000</td>\n",
       "      <td>49.000000</td>\n",
       "      <td>2.335466e+08</td>\n",
       "      <td>1.576806e+07</td>\n",
       "      <td>954336.000000</td>\n",
       "    </tr>\n",
       "  </tbody>\n",
       "</table>\n",
       "</div>"
      ],
      "text/plain": [
       "          daily_rank  daily_movement  weekly_movement    view_count  \\\n",
       "count  197757.000000   197757.000000    197757.000000  1.977570e+05   \n",
       "mean       25.500771        3.369292        19.905141  8.681297e+06   \n",
       "std        14.431243       19.823211        19.247727  1.851627e+07   \n",
       "min         1.000000      -49.000000       -49.000000  0.000000e+00   \n",
       "25%        13.000000       -9.000000         7.000000  3.580290e+05   \n",
       "50%        26.000000       -1.000000        21.000000  1.269470e+06   \n",
       "75%        38.000000       15.000000        35.000000  6.643707e+06   \n",
       "max        50.000000       49.000000        49.000000  2.335466e+08   \n",
       "\n",
       "         like_count  comment_count  \n",
       "count  1.977570e+05  197757.000000  \n",
       "mean   3.066996e+05    8041.094834  \n",
       "std    7.169108e+05   32774.369653  \n",
       "min    0.000000e+00       0.000000  \n",
       "25%    1.132800e+04     390.000000  \n",
       "50%    4.472300e+04    1193.000000  \n",
       "75%    2.468800e+05    3855.000000  \n",
       "max    1.576806e+07  954336.000000  "
      ]
     },
     "execution_count": 9,
     "metadata": {},
     "output_type": "execute_result"
    }
   ],
   "source": [
    "df.describe()"
   ]
  },
  {
   "cell_type": "code",
   "execution_count": 10,
   "id": "d8877263",
   "metadata": {},
   "outputs": [
    {
     "name": "stderr",
     "output_type": "stream",
     "text": [
      "C:\\Users\\EliteMini HX90\\AppData\\Local\\Temp\\ipykernel_4468\\3761608629.py:3: FutureWarning: DataFrame.applymap has been deprecated. Use DataFrame.map instead.\n",
      "  weird = (df[[col]].applymap(type) != df[[col]].iloc[0].apply(type)).any(axis = 1)\n",
      "C:\\Users\\EliteMini HX90\\AppData\\Local\\Temp\\ipykernel_4468\\3761608629.py:3: FutureWarning: DataFrame.applymap has been deprecated. Use DataFrame.map instead.\n",
      "  weird = (df[[col]].applymap(type) != df[[col]].iloc[0].apply(type)).any(axis = 1)\n",
      "C:\\Users\\EliteMini HX90\\AppData\\Local\\Temp\\ipykernel_4468\\3761608629.py:3: FutureWarning: DataFrame.applymap has been deprecated. Use DataFrame.map instead.\n",
      "  weird = (df[[col]].applymap(type) != df[[col]].iloc[0].apply(type)).any(axis = 1)\n",
      "C:\\Users\\EliteMini HX90\\AppData\\Local\\Temp\\ipykernel_4468\\3761608629.py:3: FutureWarning: DataFrame.applymap has been deprecated. Use DataFrame.map instead.\n",
      "  weird = (df[[col]].applymap(type) != df[[col]].iloc[0].apply(type)).any(axis = 1)\n",
      "C:\\Users\\EliteMini HX90\\AppData\\Local\\Temp\\ipykernel_4468\\3761608629.py:3: FutureWarning: DataFrame.applymap has been deprecated. Use DataFrame.map instead.\n",
      "  weird = (df[[col]].applymap(type) != df[[col]].iloc[0].apply(type)).any(axis = 1)\n",
      "C:\\Users\\EliteMini HX90\\AppData\\Local\\Temp\\ipykernel_4468\\3761608629.py:3: FutureWarning: DataFrame.applymap has been deprecated. Use DataFrame.map instead.\n",
      "  weird = (df[[col]].applymap(type) != df[[col]].iloc[0].apply(type)).any(axis = 1)\n",
      "C:\\Users\\EliteMini HX90\\AppData\\Local\\Temp\\ipykernel_4468\\3761608629.py:3: FutureWarning: DataFrame.applymap has been deprecated. Use DataFrame.map instead.\n",
      "  weird = (df[[col]].applymap(type) != df[[col]].iloc[0].apply(type)).any(axis = 1)\n",
      "C:\\Users\\EliteMini HX90\\AppData\\Local\\Temp\\ipykernel_4468\\3761608629.py:3: FutureWarning: DataFrame.applymap has been deprecated. Use DataFrame.map instead.\n",
      "  weird = (df[[col]].applymap(type) != df[[col]].iloc[0].apply(type)).any(axis = 1)\n",
      "C:\\Users\\EliteMini HX90\\AppData\\Local\\Temp\\ipykernel_4468\\3761608629.py:3: FutureWarning: DataFrame.applymap has been deprecated. Use DataFrame.map instead.\n",
      "  weird = (df[[col]].applymap(type) != df[[col]].iloc[0].apply(type)).any(axis = 1)\n",
      "C:\\Users\\EliteMini HX90\\AppData\\Local\\Temp\\ipykernel_4468\\3761608629.py:3: FutureWarning: DataFrame.applymap has been deprecated. Use DataFrame.map instead.\n",
      "  weird = (df[[col]].applymap(type) != df[[col]].iloc[0].apply(type)).any(axis = 1)\n",
      "C:\\Users\\EliteMini HX90\\AppData\\Local\\Temp\\ipykernel_4468\\3761608629.py:3: FutureWarning: DataFrame.applymap has been deprecated. Use DataFrame.map instead.\n",
      "  weird = (df[[col]].applymap(type) != df[[col]].iloc[0].apply(type)).any(axis = 1)\n"
     ]
    },
    {
     "name": "stdout",
     "output_type": "stream",
     "text": [
      "description\n",
      "video_tags\n",
      "language\n"
     ]
    },
    {
     "name": "stderr",
     "output_type": "stream",
     "text": [
      "C:\\Users\\EliteMini HX90\\AppData\\Local\\Temp\\ipykernel_4468\\3761608629.py:3: FutureWarning: DataFrame.applymap has been deprecated. Use DataFrame.map instead.\n",
      "  weird = (df[[col]].applymap(type) != df[[col]].iloc[0].apply(type)).any(axis = 1)\n",
      "C:\\Users\\EliteMini HX90\\AppData\\Local\\Temp\\ipykernel_4468\\3761608629.py:3: FutureWarning: DataFrame.applymap has been deprecated. Use DataFrame.map instead.\n",
      "  weird = (df[[col]].applymap(type) != df[[col]].iloc[0].apply(type)).any(axis = 1)\n",
      "C:\\Users\\EliteMini HX90\\AppData\\Local\\Temp\\ipykernel_4468\\3761608629.py:3: FutureWarning: DataFrame.applymap has been deprecated. Use DataFrame.map instead.\n",
      "  weird = (df[[col]].applymap(type) != df[[col]].iloc[0].apply(type)).any(axis = 1)\n",
      "C:\\Users\\EliteMini HX90\\AppData\\Local\\Temp\\ipykernel_4468\\3761608629.py:3: FutureWarning: DataFrame.applymap has been deprecated. Use DataFrame.map instead.\n",
      "  weird = (df[[col]].applymap(type) != df[[col]].iloc[0].apply(type)).any(axis = 1)\n",
      "C:\\Users\\EliteMini HX90\\AppData\\Local\\Temp\\ipykernel_4468\\3761608629.py:3: FutureWarning: DataFrame.applymap has been deprecated. Use DataFrame.map instead.\n",
      "  weird = (df[[col]].applymap(type) != df[[col]].iloc[0].apply(type)).any(axis = 1)\n",
      "C:\\Users\\EliteMini HX90\\AppData\\Local\\Temp\\ipykernel_4468\\3761608629.py:3: FutureWarning: DataFrame.applymap has been deprecated. Use DataFrame.map instead.\n",
      "  weird = (df[[col]].applymap(type) != df[[col]].iloc[0].apply(type)).any(axis = 1)\n",
      "C:\\Users\\EliteMini HX90\\AppData\\Local\\Temp\\ipykernel_4468\\3761608629.py:3: FutureWarning: DataFrame.applymap has been deprecated. Use DataFrame.map instead.\n",
      "  weird = (df[[col]].applymap(type) != df[[col]].iloc[0].apply(type)).any(axis = 1)\n"
     ]
    }
   ],
   "source": [
    "#Check for mixed type data\n",
    "for col in df.columns.tolist():\n",
    "  weird = (df[[col]].applymap(type) != df[[col]].iloc[0].apply(type)).any(axis = 1)\n",
    "  if len (df[weird]) > 0:\n",
    "    print (col)"
   ]
  },
  {
   "cell_type": "code",
   "execution_count": 11,
   "id": "fdff77c2",
   "metadata": {},
   "outputs": [
    {
     "data": {
      "text/plain": [
       "title              object\n",
       "channel_name       object\n",
       "daily_rank          int64\n",
       "daily_movement      int64\n",
       "weekly_movement     int64\n",
       "snapshot_date      object\n",
       "country            object\n",
       "view_count          int64\n",
       "like_count          int64\n",
       "comment_count       int64\n",
       "description        object\n",
       "thumbnail_url      object\n",
       "video_id           object\n",
       "channel_id         object\n",
       "video_tags         object\n",
       "kind               object\n",
       "publish_date       object\n",
       "language           object\n",
       "dtype: object"
      ]
     },
     "execution_count": 11,
     "metadata": {},
     "output_type": "execute_result"
    }
   ],
   "source": [
    "df.dtypes"
   ]
  },
  {
   "cell_type": "code",
   "execution_count": 12,
   "id": "33684768",
   "metadata": {},
   "outputs": [],
   "source": [
    "#change data types for mixed columns\n",
    "df['description'] = df['description'].astype('str')"
   ]
  },
  {
   "cell_type": "code",
   "execution_count": 13,
   "id": "c9564c81",
   "metadata": {},
   "outputs": [
    {
     "data": {
      "text/plain": [
       "dtype('O')"
      ]
     },
     "execution_count": 13,
     "metadata": {},
     "output_type": "execute_result"
    }
   ],
   "source": [
    "df['description'].dtypes"
   ]
  },
  {
   "cell_type": "code",
   "execution_count": 14,
   "id": "f130a543",
   "metadata": {},
   "outputs": [],
   "source": [
    "#change data types for mixed columns\n",
    "df['video_tags'] = df['video_tags'].astype('str')"
   ]
  },
  {
   "cell_type": "code",
   "execution_count": 15,
   "id": "37501ca5",
   "metadata": {},
   "outputs": [],
   "source": [
    "#change data types for mixed columns\n",
    "df['language'] = df['language'].astype('str')"
   ]
  },
  {
   "cell_type": "code",
   "execution_count": 16,
   "id": "9f3c2ace",
   "metadata": {},
   "outputs": [
    {
     "data": {
      "text/plain": [
       "title              0\n",
       "channel_name       0\n",
       "daily_rank         0\n",
       "daily_movement     0\n",
       "weekly_movement    0\n",
       "snapshot_date      0\n",
       "country            0\n",
       "view_count         0\n",
       "like_count         0\n",
       "comment_count      0\n",
       "description        0\n",
       "thumbnail_url      0\n",
       "video_id           0\n",
       "channel_id         0\n",
       "video_tags         0\n",
       "kind               0\n",
       "publish_date       0\n",
       "language           0\n",
       "dtype: int64"
      ]
     },
     "execution_count": 16,
     "metadata": {},
     "output_type": "execute_result"
    }
   ],
   "source": [
    "#Check for missing values\n",
    "df.isnull().sum()"
   ]
  },
  {
   "cell_type": "code",
   "execution_count": 17,
   "id": "633ac152",
   "metadata": {},
   "outputs": [],
   "source": [
    "#Find duplicates\n",
    "df_dups = df[df.duplicated()]"
   ]
  },
  {
   "cell_type": "code",
   "execution_count": 18,
   "id": "98578419",
   "metadata": {},
   "outputs": [
    {
     "data": {
      "text/html": [
       "<div>\n",
       "<style scoped>\n",
       "    .dataframe tbody tr th:only-of-type {\n",
       "        vertical-align: middle;\n",
       "    }\n",
       "\n",
       "    .dataframe tbody tr th {\n",
       "        vertical-align: top;\n",
       "    }\n",
       "\n",
       "    .dataframe thead th {\n",
       "        text-align: right;\n",
       "    }\n",
       "</style>\n",
       "<table border=\"1\" class=\"dataframe\">\n",
       "  <thead>\n",
       "    <tr style=\"text-align: right;\">\n",
       "      <th></th>\n",
       "      <th>title</th>\n",
       "      <th>channel_name</th>\n",
       "      <th>daily_rank</th>\n",
       "      <th>daily_movement</th>\n",
       "      <th>weekly_movement</th>\n",
       "      <th>snapshot_date</th>\n",
       "      <th>country</th>\n",
       "      <th>view_count</th>\n",
       "      <th>like_count</th>\n",
       "      <th>comment_count</th>\n",
       "      <th>description</th>\n",
       "      <th>thumbnail_url</th>\n",
       "      <th>video_id</th>\n",
       "      <th>channel_id</th>\n",
       "      <th>video_tags</th>\n",
       "      <th>kind</th>\n",
       "      <th>publish_date</th>\n",
       "      <th>language</th>\n",
       "    </tr>\n",
       "  </thead>\n",
       "  <tbody>\n",
       "  </tbody>\n",
       "</table>\n",
       "</div>"
      ],
      "text/plain": [
       "Empty DataFrame\n",
       "Columns: [title, channel_name, daily_rank, daily_movement, weekly_movement, snapshot_date, country, view_count, like_count, comment_count, description, thumbnail_url, video_id, channel_id, video_tags, kind, publish_date, language]\n",
       "Index: []"
      ]
     },
     "execution_count": 18,
     "metadata": {},
     "output_type": "execute_result"
    }
   ],
   "source": [
    "df_dups"
   ]
  },
  {
   "cell_type": "code",
   "execution_count": 19,
   "id": "5af324b2",
   "metadata": {},
   "outputs": [
    {
     "data": {
      "text/plain": [
       "Index(['title', 'channel_name', 'daily_rank', 'daily_movement',\n",
       "       'weekly_movement', 'snapshot_date', 'country', 'view_count',\n",
       "       'like_count', 'comment_count', 'description', 'thumbnail_url',\n",
       "       'video_id', 'channel_id', 'video_tags', 'kind', 'publish_date',\n",
       "       'language'],\n",
       "      dtype='object')"
      ]
     },
     "execution_count": 19,
     "metadata": {},
     "output_type": "execute_result"
    }
   ],
   "source": [
    "df.columns"
   ]
  },
  {
   "cell_type": "code",
   "execution_count": 20,
   "id": "a90fb4c1",
   "metadata": {},
   "outputs": [
    {
     "data": {
      "text/plain": [
       "kind\n",
       "youtube#video    197757\n",
       "Name: count, dtype: int64"
      ]
     },
     "execution_count": 20,
     "metadata": {},
     "output_type": "execute_result"
    }
   ],
   "source": [
    "#check frequency for select columns\n",
    "df['kind'].value_counts()"
   ]
  },
  {
   "cell_type": "code",
   "execution_count": 21,
   "id": "4c1b8609",
   "metadata": {},
   "outputs": [
    {
     "data": {
      "text/plain": [
       "language\n",
       "nan      52518\n",
       "en       37041\n",
       "ar       13693\n",
       "en-US    11670\n",
       "es        8808\n",
       "         ...  \n",
       "tg           1\n",
       "my           1\n",
       "ky           1\n",
       "fr-BE        1\n",
       "uz           1\n",
       "Name: count, Length: 121, dtype: int64"
      ]
     },
     "execution_count": 21,
     "metadata": {},
     "output_type": "execute_result"
    }
   ],
   "source": [
    "#check frequency for select columns\n",
    "df['language'].value_counts()"
   ]
  },
  {
   "cell_type": "code",
   "execution_count": 22,
   "id": "5b1b6dc3",
   "metadata": {
    "scrolled": true
   },
   "outputs": [
    {
     "data": {
      "text/plain": [
       "country\n",
       "UA    1752\n",
       "TR    1751\n",
       "TW    1751\n",
       "MN    1751\n",
       "SE    1751\n",
       "      ... \n",
       "MD    1749\n",
       "CY    1749\n",
       "PK    1749\n",
       "RO    1748\n",
       "LK    1748\n",
       "Name: count, Length: 113, dtype: int64"
      ]
     },
     "execution_count": 22,
     "metadata": {},
     "output_type": "execute_result"
    }
   ],
   "source": [
    "#check frequency for select columns\n",
    "df['country'].value_counts()"
   ]
  },
  {
   "cell_type": "code",
   "execution_count": 23,
   "id": "1a7b8e89",
   "metadata": {},
   "outputs": [],
   "source": [
    "#create subset dropping likely unnecessary columns\n",
    "df_reduced=df.drop(columns=['kind','thumbnail_url'])"
   ]
  },
  {
   "cell_type": "code",
   "execution_count": 24,
   "id": "60448b5a",
   "metadata": {},
   "outputs": [
    {
     "data": {
      "text/plain": [
       "(197757, 16)"
      ]
     },
     "execution_count": 24,
     "metadata": {},
     "output_type": "execute_result"
    }
   ],
   "source": [
    "df_reduced.shape"
   ]
  },
  {
   "cell_type": "code",
   "execution_count": 25,
   "id": "aab45f8e",
   "metadata": {},
   "outputs": [
    {
     "data": {
      "text/html": [
       "<div>\n",
       "<style scoped>\n",
       "    .dataframe tbody tr th:only-of-type {\n",
       "        vertical-align: middle;\n",
       "    }\n",
       "\n",
       "    .dataframe tbody tr th {\n",
       "        vertical-align: top;\n",
       "    }\n",
       "\n",
       "    .dataframe thead th {\n",
       "        text-align: right;\n",
       "    }\n",
       "</style>\n",
       "<table border=\"1\" class=\"dataframe\">\n",
       "  <thead>\n",
       "    <tr style=\"text-align: right;\">\n",
       "      <th></th>\n",
       "      <th>title</th>\n",
       "      <th>channel_name</th>\n",
       "      <th>daily_rank</th>\n",
       "      <th>daily_movement</th>\n",
       "      <th>weekly_movement</th>\n",
       "      <th>snapshot_date</th>\n",
       "      <th>country</th>\n",
       "      <th>view_count</th>\n",
       "      <th>like_count</th>\n",
       "      <th>comment_count</th>\n",
       "      <th>description</th>\n",
       "      <th>video_id</th>\n",
       "      <th>channel_id</th>\n",
       "      <th>video_tags</th>\n",
       "      <th>publish_date</th>\n",
       "      <th>language</th>\n",
       "    </tr>\n",
       "  </thead>\n",
       "  <tbody>\n",
       "    <tr>\n",
       "      <th>0</th>\n",
       "      <td>Freeman HKD, Nox, Tyfah Guni - Man To Man (Off...</td>\n",
       "      <td>FreemanHKDVEVO</td>\n",
       "      <td>1</td>\n",
       "      <td>0</td>\n",
       "      <td>0</td>\n",
       "      <td>2023-11-29</td>\n",
       "      <td>ZW</td>\n",
       "      <td>659445</td>\n",
       "      <td>12525</td>\n",
       "      <td>1154</td>\n",
       "      <td>Produced By: Spirit Fingerz\\nMixed &amp;Mastered B...</td>\n",
       "      <td>nOjbJdw2dPs</td>\n",
       "      <td>UCBqFAZ41zHq5h5-7A1YpiuQ</td>\n",
       "      <td>Freeman, HKD, Nox, Tyfah, Guni, Man, (Official...</td>\n",
       "      <td>2023-11-02 00:00:00+00:00</td>\n",
       "      <td>nan</td>\n",
       "    </tr>\n",
       "    <tr>\n",
       "      <th>1</th>\n",
       "      <td>Nutty O - Jericho ft. BLING4 &amp; Bagga</td>\n",
       "      <td>NuttyOVEVO</td>\n",
       "      <td>2</td>\n",
       "      <td>0</td>\n",
       "      <td>48</td>\n",
       "      <td>2023-11-29</td>\n",
       "      <td>ZW</td>\n",
       "      <td>96852</td>\n",
       "      <td>6361</td>\n",
       "      <td>795</td>\n",
       "      <td>Jericho\\nby Nutty O (feat. BLING4 &amp; Bagga) \\nP...</td>\n",
       "      <td>7g71VmQzyD4</td>\n",
       "      <td>UCwY1uVRu0ML4wWBm9pGZy_g</td>\n",
       "      <td>Jericho, BLING4, Bagga, Ragga-Soca, reggae, po...</td>\n",
       "      <td>2023-11-23 00:00:00+00:00</td>\n",
       "      <td>nan</td>\n",
       "    </tr>\n",
       "    <tr>\n",
       "      <th>2</th>\n",
       "      <td>Kamo Mphela, Khalil Harrison &amp; Tyler ICU - Dal...</td>\n",
       "      <td>Kamo Mphelaxx</td>\n",
       "      <td>3</td>\n",
       "      <td>0</td>\n",
       "      <td>47</td>\n",
       "      <td>2023-11-29</td>\n",
       "      <td>ZW</td>\n",
       "      <td>1236824</td>\n",
       "      <td>41518</td>\n",
       "      <td>1290</td>\n",
       "      <td>The Official Music Video for Kamo Mphela, Khal...</td>\n",
       "      <td>hcqcy6cdCw8</td>\n",
       "      <td>UCfYbXQVQZYoISJzqBdH15Eg</td>\n",
       "      <td>kamo mphela, tyler icu, dalie, Mnike, Amapiano...</td>\n",
       "      <td>2023-11-22 00:00:00+00:00</td>\n",
       "      <td>nan</td>\n",
       "    </tr>\n",
       "    <tr>\n",
       "      <th>3</th>\n",
       "      <td>Garnacho UNBELIEVABLE Overhead Kick! 🤩 | Evert...</td>\n",
       "      <td>Manchester United</td>\n",
       "      <td>4</td>\n",
       "      <td>1</td>\n",
       "      <td>46</td>\n",
       "      <td>2023-11-29</td>\n",
       "      <td>ZW</td>\n",
       "      <td>6607439</td>\n",
       "      <td>153575</td>\n",
       "      <td>5580</td>\n",
       "      <td>United picked up 3️⃣ points at Goodison Park o...</td>\n",
       "      <td>qgmhQZzoy1s</td>\n",
       "      <td>UC6yW44UGJJBvYTlfC7CRg2Q</td>\n",
       "      <td>manchester united, mufc, man utd, manutd, mu, ...</td>\n",
       "      <td>2023-11-26 00:00:00+00:00</td>\n",
       "      <td>en-GB</td>\n",
       "    </tr>\n",
       "    <tr>\n",
       "      <th>4</th>\n",
       "      <td>Drake - First Person Shooter ft. J. Cole</td>\n",
       "      <td>DrakeVEVO</td>\n",
       "      <td>5</td>\n",
       "      <td>-1</td>\n",
       "      <td>-3</td>\n",
       "      <td>2023-11-29</td>\n",
       "      <td>ZW</td>\n",
       "      <td>19193308</td>\n",
       "      <td>858667</td>\n",
       "      <td>36413</td>\n",
       "      <td>Listen to For All The Dogs Scary Hours Edition...</td>\n",
       "      <td>Xty2gi5cMa8</td>\n",
       "      <td>UCQznUf1SjfDqx65hX3zRDiA</td>\n",
       "      <td>Drake, First, Person, Shooter, OVO/Republic, H...</td>\n",
       "      <td>2023-11-15 00:00:00+00:00</td>\n",
       "      <td>en</td>\n",
       "    </tr>\n",
       "  </tbody>\n",
       "</table>\n",
       "</div>"
      ],
      "text/plain": [
       "                                               title       channel_name  \\\n",
       "0  Freeman HKD, Nox, Tyfah Guni - Man To Man (Off...     FreemanHKDVEVO   \n",
       "1               Nutty O - Jericho ft. BLING4 & Bagga         NuttyOVEVO   \n",
       "2  Kamo Mphela, Khalil Harrison & Tyler ICU - Dal...      Kamo Mphelaxx   \n",
       "3  Garnacho UNBELIEVABLE Overhead Kick! 🤩 | Evert...  Manchester United   \n",
       "4           Drake - First Person Shooter ft. J. Cole          DrakeVEVO   \n",
       "\n",
       "   daily_rank  daily_movement  weekly_movement snapshot_date country  \\\n",
       "0           1               0                0    2023-11-29      ZW   \n",
       "1           2               0               48    2023-11-29      ZW   \n",
       "2           3               0               47    2023-11-29      ZW   \n",
       "3           4               1               46    2023-11-29      ZW   \n",
       "4           5              -1               -3    2023-11-29      ZW   \n",
       "\n",
       "   view_count  like_count  comment_count  \\\n",
       "0      659445       12525           1154   \n",
       "1       96852        6361            795   \n",
       "2     1236824       41518           1290   \n",
       "3     6607439      153575           5580   \n",
       "4    19193308      858667          36413   \n",
       "\n",
       "                                         description     video_id  \\\n",
       "0  Produced By: Spirit Fingerz\\nMixed &Mastered B...  nOjbJdw2dPs   \n",
       "1  Jericho\\nby Nutty O (feat. BLING4 & Bagga) \\nP...  7g71VmQzyD4   \n",
       "2  The Official Music Video for Kamo Mphela, Khal...  hcqcy6cdCw8   \n",
       "3  United picked up 3️⃣ points at Goodison Park o...  qgmhQZzoy1s   \n",
       "4  Listen to For All The Dogs Scary Hours Edition...  Xty2gi5cMa8   \n",
       "\n",
       "                 channel_id  \\\n",
       "0  UCBqFAZ41zHq5h5-7A1YpiuQ   \n",
       "1  UCwY1uVRu0ML4wWBm9pGZy_g   \n",
       "2  UCfYbXQVQZYoISJzqBdH15Eg   \n",
       "3  UC6yW44UGJJBvYTlfC7CRg2Q   \n",
       "4  UCQznUf1SjfDqx65hX3zRDiA   \n",
       "\n",
       "                                          video_tags  \\\n",
       "0  Freeman, HKD, Nox, Tyfah, Guni, Man, (Official...   \n",
       "1  Jericho, BLING4, Bagga, Ragga-Soca, reggae, po...   \n",
       "2  kamo mphela, tyler icu, dalie, Mnike, Amapiano...   \n",
       "3  manchester united, mufc, man utd, manutd, mu, ...   \n",
       "4  Drake, First, Person, Shooter, OVO/Republic, H...   \n",
       "\n",
       "                publish_date language  \n",
       "0  2023-11-02 00:00:00+00:00      nan  \n",
       "1  2023-11-23 00:00:00+00:00      nan  \n",
       "2  2023-11-22 00:00:00+00:00      nan  \n",
       "3  2023-11-26 00:00:00+00:00    en-GB  \n",
       "4  2023-11-15 00:00:00+00:00       en  "
      ]
     },
     "execution_count": 25,
     "metadata": {},
     "output_type": "execute_result"
    }
   ],
   "source": [
    "df_reduced.head()"
   ]
  },
  {
   "cell_type": "code",
   "execution_count": 26,
   "id": "e64c22ea",
   "metadata": {},
   "outputs": [
    {
     "name": "stdout",
     "output_type": "stream",
     "text": [
      "<class 'pandas.core.frame.DataFrame'>\n",
      "RangeIndex: 197757 entries, 0 to 197756\n",
      "Data columns (total 16 columns):\n",
      " #   Column           Non-Null Count   Dtype \n",
      "---  ------           --------------   ----- \n",
      " 0   title            197757 non-null  object\n",
      " 1   channel_name     197757 non-null  object\n",
      " 2   daily_rank       197757 non-null  int64 \n",
      " 3   daily_movement   197757 non-null  int64 \n",
      " 4   weekly_movement  197757 non-null  int64 \n",
      " 5   snapshot_date    197757 non-null  object\n",
      " 6   country          197757 non-null  object\n",
      " 7   view_count       197757 non-null  int64 \n",
      " 8   like_count       197757 non-null  int64 \n",
      " 9   comment_count    197757 non-null  int64 \n",
      " 10  description      197757 non-null  object\n",
      " 11  video_id         197757 non-null  object\n",
      " 12  channel_id       197757 non-null  object\n",
      " 13  video_tags       197757 non-null  object\n",
      " 14  publish_date     197757 non-null  object\n",
      " 15  language         197757 non-null  object\n",
      "dtypes: int64(6), object(10)\n",
      "memory usage: 24.1+ MB\n"
     ]
    }
   ],
   "source": [
    "df_reduced.info()"
   ]
  },
  {
   "cell_type": "code",
   "execution_count": 27,
   "id": "c8f7b69b-c89d-402e-b465-b50627395869",
   "metadata": {},
   "outputs": [],
   "source": [
    "#create subset with only video_id and video_tags\n",
    "df_test=df_reduced[['video_id','video_tags']]"
   ]
  },
  {
   "cell_type": "code",
   "execution_count": 28,
   "id": "2ee87080-b764-45db-a39f-38a81000dbfc",
   "metadata": {},
   "outputs": [
    {
     "data": {
      "text/html": [
       "<div>\n",
       "<style scoped>\n",
       "    .dataframe tbody tr th:only-of-type {\n",
       "        vertical-align: middle;\n",
       "    }\n",
       "\n",
       "    .dataframe tbody tr th {\n",
       "        vertical-align: top;\n",
       "    }\n",
       "\n",
       "    .dataframe thead th {\n",
       "        text-align: right;\n",
       "    }\n",
       "</style>\n",
       "<table border=\"1\" class=\"dataframe\">\n",
       "  <thead>\n",
       "    <tr style=\"text-align: right;\">\n",
       "      <th></th>\n",
       "      <th>video_id</th>\n",
       "      <th>video_tags</th>\n",
       "    </tr>\n",
       "  </thead>\n",
       "  <tbody>\n",
       "    <tr>\n",
       "      <th>0</th>\n",
       "      <td>nOjbJdw2dPs</td>\n",
       "      <td>Freeman, HKD, Nox, Tyfah, Guni, Man, (Official...</td>\n",
       "    </tr>\n",
       "    <tr>\n",
       "      <th>1</th>\n",
       "      <td>7g71VmQzyD4</td>\n",
       "      <td>Jericho, BLING4, Bagga, Ragga-Soca, reggae, po...</td>\n",
       "    </tr>\n",
       "    <tr>\n",
       "      <th>2</th>\n",
       "      <td>hcqcy6cdCw8</td>\n",
       "      <td>kamo mphela, tyler icu, dalie, Mnike, Amapiano...</td>\n",
       "    </tr>\n",
       "    <tr>\n",
       "      <th>3</th>\n",
       "      <td>qgmhQZzoy1s</td>\n",
       "      <td>manchester united, mufc, man utd, manutd, mu, ...</td>\n",
       "    </tr>\n",
       "    <tr>\n",
       "      <th>4</th>\n",
       "      <td>Xty2gi5cMa8</td>\n",
       "      <td>Drake, First, Person, Shooter, OVO/Republic, H...</td>\n",
       "    </tr>\n",
       "  </tbody>\n",
       "</table>\n",
       "</div>"
      ],
      "text/plain": [
       "      video_id                                         video_tags\n",
       "0  nOjbJdw2dPs  Freeman, HKD, Nox, Tyfah, Guni, Man, (Official...\n",
       "1  7g71VmQzyD4  Jericho, BLING4, Bagga, Ragga-Soca, reggae, po...\n",
       "2  hcqcy6cdCw8  kamo mphela, tyler icu, dalie, Mnike, Amapiano...\n",
       "3  qgmhQZzoy1s  manchester united, mufc, man utd, manutd, mu, ...\n",
       "4  Xty2gi5cMa8  Drake, First, Person, Shooter, OVO/Republic, H..."
      ]
     },
     "execution_count": 28,
     "metadata": {},
     "output_type": "execute_result"
    }
   ],
   "source": [
    "df_test.head()"
   ]
  },
  {
   "cell_type": "code",
   "execution_count": 29,
   "id": "e8906737-3c79-428b-bde7-222ad51de89b",
   "metadata": {},
   "outputs": [
    {
     "name": "stderr",
     "output_type": "stream",
     "text": [
      "C:\\Users\\EliteMini HX90\\AppData\\Local\\Temp\\ipykernel_4468\\1640498116.py:1: SettingWithCopyWarning: \n",
      "A value is trying to be set on a copy of a slice from a DataFrame.\n",
      "Try using .loc[row_indexer,col_indexer] = value instead\n",
      "\n",
      "See the caveats in the documentation: https://pandas.pydata.org/pandas-docs/stable/user_guide/indexing.html#returning-a-view-versus-a-copy\n",
      "  df_test['video_tags']=df_test['video_tags'].str.split(',')\n"
     ]
    }
   ],
   "source": [
    "df_test['video_tags']=df_test['video_tags'].str.split(',')"
   ]
  },
  {
   "cell_type": "code",
   "execution_count": 30,
   "id": "b74eb180",
   "metadata": {},
   "outputs": [
    {
     "data": {
      "text/plain": [
       "0    [Freeman,  HKD,  Nox,  Tyfah,  Guni,  Man,  (O...\n",
       "1    [Jericho,  BLING4,  Bagga,  Ragga-Soca,  regga...\n",
       "2    [kamo mphela,  tyler icu,  dalie,  Mnike,  Ama...\n",
       "3    [manchester united,  mufc,  man utd,  manutd, ...\n",
       "4    [Drake,  First,  Person,  Shooter,  OVO/Republ...\n",
       "5    [master kg,  Nkosazana Daughter,  master kg & ...\n",
       "6    [Takura,  Hazvireve,  Rudo,  Handina,  (Offici...\n",
       "7    [Everton;,  Everton,  Football,  Club;,  efc;,...\n",
       "8    [Freeman,  HKD,  Bhanan’ana,  (Official,  Audi...\n",
       "9    [zimbabwe,  harare,  chitungwiza,  jahprayzah,...\n",
       "Name: video_tags, dtype: object"
      ]
     },
     "execution_count": 30,
     "metadata": {},
     "output_type": "execute_result"
    }
   ],
   "source": [
    "df_test['video_tags'].head(10)"
   ]
  },
  {
   "cell_type": "code",
   "execution_count": 31,
   "id": "1c9210fd",
   "metadata": {},
   "outputs": [
    {
     "data": {
      "text/html": [
       "<div>\n",
       "<style scoped>\n",
       "    .dataframe tbody tr th:only-of-type {\n",
       "        vertical-align: middle;\n",
       "    }\n",
       "\n",
       "    .dataframe tbody tr th {\n",
       "        vertical-align: top;\n",
       "    }\n",
       "\n",
       "    .dataframe thead th {\n",
       "        text-align: right;\n",
       "    }\n",
       "</style>\n",
       "<table border=\"1\" class=\"dataframe\">\n",
       "  <thead>\n",
       "    <tr style=\"text-align: right;\">\n",
       "      <th></th>\n",
       "      <th>video_id</th>\n",
       "      <th>video_tags</th>\n",
       "    </tr>\n",
       "  </thead>\n",
       "  <tbody>\n",
       "    <tr>\n",
       "      <th>0</th>\n",
       "      <td>nOjbJdw2dPs</td>\n",
       "      <td>Freeman</td>\n",
       "    </tr>\n",
       "    <tr>\n",
       "      <th>0</th>\n",
       "      <td>nOjbJdw2dPs</td>\n",
       "      <td>HKD</td>\n",
       "    </tr>\n",
       "    <tr>\n",
       "      <th>0</th>\n",
       "      <td>nOjbJdw2dPs</td>\n",
       "      <td>Nox</td>\n",
       "    </tr>\n",
       "    <tr>\n",
       "      <th>0</th>\n",
       "      <td>nOjbJdw2dPs</td>\n",
       "      <td>Tyfah</td>\n",
       "    </tr>\n",
       "    <tr>\n",
       "      <th>0</th>\n",
       "      <td>nOjbJdw2dPs</td>\n",
       "      <td>Guni</td>\n",
       "    </tr>\n",
       "  </tbody>\n",
       "</table>\n",
       "</div>"
      ],
      "text/plain": [
       "      video_id video_tags\n",
       "0  nOjbJdw2dPs    Freeman\n",
       "0  nOjbJdw2dPs        HKD\n",
       "0  nOjbJdw2dPs        Nox\n",
       "0  nOjbJdw2dPs      Tyfah\n",
       "0  nOjbJdw2dPs       Guni"
      ]
     },
     "execution_count": 31,
     "metadata": {},
     "output_type": "execute_result"
    }
   ],
   "source": [
    "#create bridge table for only tags\n",
    "df_bridge=df_test.explode('video_tags')\n",
    "df_bridge.head()"
   ]
  },
  {
   "cell_type": "code",
   "execution_count": 32,
   "id": "6fe1a99a",
   "metadata": {},
   "outputs": [
    {
     "data": {
      "text/html": [
       "<div>\n",
       "<style scoped>\n",
       "    .dataframe tbody tr th:only-of-type {\n",
       "        vertical-align: middle;\n",
       "    }\n",
       "\n",
       "    .dataframe tbody tr th {\n",
       "        vertical-align: top;\n",
       "    }\n",
       "\n",
       "    .dataframe thead th {\n",
       "        text-align: right;\n",
       "    }\n",
       "</style>\n",
       "<table border=\"1\" class=\"dataframe\">\n",
       "  <thead>\n",
       "    <tr style=\"text-align: right;\">\n",
       "      <th></th>\n",
       "      <th>video_id</th>\n",
       "      <th>video_tags</th>\n",
       "    </tr>\n",
       "  </thead>\n",
       "  <tbody>\n",
       "    <tr>\n",
       "      <th>0</th>\n",
       "      <td>nOjbJdw2dPs</td>\n",
       "      <td>Freeman</td>\n",
       "    </tr>\n",
       "    <tr>\n",
       "      <th>1</th>\n",
       "      <td>nOjbJdw2dPs</td>\n",
       "      <td>HKD</td>\n",
       "    </tr>\n",
       "    <tr>\n",
       "      <th>2</th>\n",
       "      <td>nOjbJdw2dPs</td>\n",
       "      <td>Nox</td>\n",
       "    </tr>\n",
       "    <tr>\n",
       "      <th>3</th>\n",
       "      <td>nOjbJdw2dPs</td>\n",
       "      <td>Tyfah</td>\n",
       "    </tr>\n",
       "    <tr>\n",
       "      <th>4</th>\n",
       "      <td>nOjbJdw2dPs</td>\n",
       "      <td>Guni</td>\n",
       "    </tr>\n",
       "    <tr>\n",
       "      <th>5</th>\n",
       "      <td>nOjbJdw2dPs</td>\n",
       "      <td>Man</td>\n",
       "    </tr>\n",
       "    <tr>\n",
       "      <th>6</th>\n",
       "      <td>nOjbJdw2dPs</td>\n",
       "      <td>(Official</td>\n",
       "    </tr>\n",
       "    <tr>\n",
       "      <th>7</th>\n",
       "      <td>nOjbJdw2dPs</td>\n",
       "      <td>Visualizer)</td>\n",
       "    </tr>\n",
       "    <tr>\n",
       "      <th>8</th>\n",
       "      <td>nOjbJdw2dPs</td>\n",
       "      <td>JungleEnt</td>\n",
       "    </tr>\n",
       "    <tr>\n",
       "      <th>9</th>\n",
       "      <td>nOjbJdw2dPs</td>\n",
       "      <td>World</td>\n",
       "    </tr>\n",
       "    <tr>\n",
       "      <th>10</th>\n",
       "      <td>nOjbJdw2dPs</td>\n",
       "      <td>Afro</td>\n",
       "    </tr>\n",
       "    <tr>\n",
       "      <th>11</th>\n",
       "      <td>nOjbJdw2dPs</td>\n",
       "      <td>Beat</td>\n",
       "    </tr>\n",
       "    <tr>\n",
       "      <th>12</th>\n",
       "      <td>nOjbJdw2dPs</td>\n",
       "      <td>Dancehall</td>\n",
       "    </tr>\n",
       "    <tr>\n",
       "      <th>13</th>\n",
       "      <td>7g71VmQzyD4</td>\n",
       "      <td>Jericho</td>\n",
       "    </tr>\n",
       "    <tr>\n",
       "      <th>14</th>\n",
       "      <td>7g71VmQzyD4</td>\n",
       "      <td>BLING4</td>\n",
       "    </tr>\n",
       "    <tr>\n",
       "      <th>15</th>\n",
       "      <td>7g71VmQzyD4</td>\n",
       "      <td>Bagga</td>\n",
       "    </tr>\n",
       "    <tr>\n",
       "      <th>16</th>\n",
       "      <td>7g71VmQzyD4</td>\n",
       "      <td>Ragga-Soca</td>\n",
       "    </tr>\n",
       "    <tr>\n",
       "      <th>17</th>\n",
       "      <td>7g71VmQzyD4</td>\n",
       "      <td>reggae</td>\n",
       "    </tr>\n",
       "    <tr>\n",
       "      <th>18</th>\n",
       "      <td>7g71VmQzyD4</td>\n",
       "      <td>pop</td>\n",
       "    </tr>\n",
       "    <tr>\n",
       "      <th>19</th>\n",
       "      <td>7g71VmQzyD4</td>\n",
       "      <td>collab</td>\n",
       "    </tr>\n",
       "  </tbody>\n",
       "</table>\n",
       "</div>"
      ],
      "text/plain": [
       "       video_id    video_tags\n",
       "0   nOjbJdw2dPs       Freeman\n",
       "1   nOjbJdw2dPs           HKD\n",
       "2   nOjbJdw2dPs           Nox\n",
       "3   nOjbJdw2dPs         Tyfah\n",
       "4   nOjbJdw2dPs          Guni\n",
       "5   nOjbJdw2dPs           Man\n",
       "6   nOjbJdw2dPs     (Official\n",
       "7   nOjbJdw2dPs   Visualizer)\n",
       "8   nOjbJdw2dPs     JungleEnt\n",
       "9   nOjbJdw2dPs         World\n",
       "10  nOjbJdw2dPs          Afro\n",
       "11  nOjbJdw2dPs          Beat\n",
       "12  nOjbJdw2dPs     Dancehall\n",
       "13  7g71VmQzyD4       Jericho\n",
       "14  7g71VmQzyD4        BLING4\n",
       "15  7g71VmQzyD4         Bagga\n",
       "16  7g71VmQzyD4    Ragga-Soca\n",
       "17  7g71VmQzyD4        reggae\n",
       "18  7g71VmQzyD4           pop\n",
       "19  7g71VmQzyD4        collab"
      ]
     },
     "execution_count": 32,
     "metadata": {},
     "output_type": "execute_result"
    }
   ],
   "source": [
    "#trim df\n",
    "df_bridge = df_bridge.loc[:, [\"video_id\", \"video_tags\"]]\n",
    "df_bridge.reset_index(drop=True, inplace=True)\n",
    "df_bridge.head(20)"
   ]
  },
  {
   "cell_type": "code",
   "execution_count": 33,
   "id": "85ea3b07",
   "metadata": {},
   "outputs": [
    {
     "data": {
      "text/plain": [
       "video_id      0\n",
       "video_tags    0\n",
       "dtype: int64"
      ]
     },
     "execution_count": 33,
     "metadata": {},
     "output_type": "execute_result"
    }
   ],
   "source": [
    "#check for missing values in subset\n",
    "df_bridge.isnull().sum()"
   ]
  },
  {
   "cell_type": "code",
   "execution_count": 34,
   "id": "8ba9e191",
   "metadata": {},
   "outputs": [
    {
     "data": {
      "text/html": [
       "<div>\n",
       "<style scoped>\n",
       "    .dataframe tbody tr th:only-of-type {\n",
       "        vertical-align: middle;\n",
       "    }\n",
       "\n",
       "    .dataframe tbody tr th {\n",
       "        vertical-align: top;\n",
       "    }\n",
       "\n",
       "    .dataframe thead th {\n",
       "        text-align: right;\n",
       "    }\n",
       "</style>\n",
       "<table border=\"1\" class=\"dataframe\">\n",
       "  <thead>\n",
       "    <tr style=\"text-align: right;\">\n",
       "      <th></th>\n",
       "      <th>video_id</th>\n",
       "      <th>video_tags</th>\n",
       "    </tr>\n",
       "  </thead>\n",
       "  <tbody>\n",
       "    <tr>\n",
       "      <th>862</th>\n",
       "      <td>hcqcy6cdCw8</td>\n",
       "      <td>kamo mphela</td>\n",
       "    </tr>\n",
       "    <tr>\n",
       "      <th>863</th>\n",
       "      <td>hcqcy6cdCw8</td>\n",
       "      <td>tyler icu</td>\n",
       "    </tr>\n",
       "    <tr>\n",
       "      <th>864</th>\n",
       "      <td>hcqcy6cdCw8</td>\n",
       "      <td>dalie</td>\n",
       "    </tr>\n",
       "    <tr>\n",
       "      <th>865</th>\n",
       "      <td>hcqcy6cdCw8</td>\n",
       "      <td>Mnike</td>\n",
       "    </tr>\n",
       "    <tr>\n",
       "      <th>866</th>\n",
       "      <td>hcqcy6cdCw8</td>\n",
       "      <td>Amapiano dance</td>\n",
       "    </tr>\n",
       "    <tr>\n",
       "      <th>...</th>\n",
       "      <td>...</td>\n",
       "      <td>...</td>\n",
       "    </tr>\n",
       "    <tr>\n",
       "      <th>2997427</th>\n",
       "      <td>nLsTd2-BlM0</td>\n",
       "      <td>إسرائيل</td>\n",
       "    </tr>\n",
       "    <tr>\n",
       "      <th>2997428</th>\n",
       "      <td>nLsTd2-BlM0</td>\n",
       "      <td>فلسطين</td>\n",
       "    </tr>\n",
       "    <tr>\n",
       "      <th>2997429</th>\n",
       "      <td>nLsTd2-BlM0</td>\n",
       "      <td>إسكندرية</td>\n",
       "    </tr>\n",
       "    <tr>\n",
       "      <th>2997430</th>\n",
       "      <td>nLsTd2-BlM0</td>\n",
       "      <td>غزة</td>\n",
       "    </tr>\n",
       "    <tr>\n",
       "      <th>2997431</th>\n",
       "      <td>nLsTd2-BlM0</td>\n",
       "      <td>جندي مصري</td>\n",
       "    </tr>\n",
       "  </tbody>\n",
       "</table>\n",
       "<p>2662163 rows × 2 columns</p>\n",
       "</div>"
      ],
      "text/plain": [
       "            video_id       video_tags\n",
       "862      hcqcy6cdCw8      kamo mphela\n",
       "863      hcqcy6cdCw8        tyler icu\n",
       "864      hcqcy6cdCw8            dalie\n",
       "865      hcqcy6cdCw8            Mnike\n",
       "866      hcqcy6cdCw8   Amapiano dance\n",
       "...              ...              ...\n",
       "2997427  nLsTd2-BlM0          إسرائيل\n",
       "2997428  nLsTd2-BlM0           فلسطين\n",
       "2997429  nLsTd2-BlM0         إسكندرية\n",
       "2997430  nLsTd2-BlM0              غزة\n",
       "2997431  nLsTd2-BlM0        جندي مصري\n",
       "\n",
       "[2662163 rows x 2 columns]"
      ]
     },
     "execution_count": 34,
     "metadata": {},
     "output_type": "execute_result"
    }
   ],
   "source": [
    "#check for duplicates in subset\n",
    "df_bridge_dups = df_bridge[df_bridge.duplicated()]\n",
    "df_bridge_dups"
   ]
  },
  {
   "cell_type": "code",
   "execution_count": 35,
   "id": "fd732435",
   "metadata": {},
   "outputs": [
    {
     "data": {
      "text/plain": [
       "(2997432, 2)"
      ]
     },
     "execution_count": 35,
     "metadata": {},
     "output_type": "execute_result"
    }
   ],
   "source": [
    "df_bridge.shape"
   ]
  },
  {
   "cell_type": "code",
   "execution_count": 36,
   "id": "c82c3b30",
   "metadata": {},
   "outputs": [],
   "source": [
    "#Create subset without duplicates\n",
    "df_bridge_no_dups = df_bridge.drop_duplicates()\n"
   ]
  },
  {
   "cell_type": "code",
   "execution_count": 37,
   "id": "ea1ecd76",
   "metadata": {},
   "outputs": [
    {
     "data": {
      "text/plain": [
       "(335269, 2)"
      ]
     },
     "execution_count": 37,
     "metadata": {},
     "output_type": "execute_result"
    }
   ],
   "source": [
    "df_bridge_no_dups.shape"
   ]
  },
  {
   "cell_type": "code",
   "execution_count": 38,
   "id": "985a3433",
   "metadata": {},
   "outputs": [
    {
     "data": {
      "text/html": [
       "<div>\n",
       "<style scoped>\n",
       "    .dataframe tbody tr th:only-of-type {\n",
       "        vertical-align: middle;\n",
       "    }\n",
       "\n",
       "    .dataframe tbody tr th {\n",
       "        vertical-align: top;\n",
       "    }\n",
       "\n",
       "    .dataframe thead th {\n",
       "        text-align: right;\n",
       "    }\n",
       "</style>\n",
       "<table border=\"1\" class=\"dataframe\">\n",
       "  <thead>\n",
       "    <tr style=\"text-align: right;\">\n",
       "      <th></th>\n",
       "      <th>video_id</th>\n",
       "      <th>video_tags</th>\n",
       "    </tr>\n",
       "  </thead>\n",
       "  <tbody>\n",
       "    <tr>\n",
       "      <th>0</th>\n",
       "      <td>nOjbJdw2dPs</td>\n",
       "      <td>Freeman</td>\n",
       "    </tr>\n",
       "    <tr>\n",
       "      <th>1</th>\n",
       "      <td>nOjbJdw2dPs</td>\n",
       "      <td>HKD</td>\n",
       "    </tr>\n",
       "    <tr>\n",
       "      <th>2</th>\n",
       "      <td>nOjbJdw2dPs</td>\n",
       "      <td>Nox</td>\n",
       "    </tr>\n",
       "    <tr>\n",
       "      <th>3</th>\n",
       "      <td>nOjbJdw2dPs</td>\n",
       "      <td>Tyfah</td>\n",
       "    </tr>\n",
       "    <tr>\n",
       "      <th>4</th>\n",
       "      <td>nOjbJdw2dPs</td>\n",
       "      <td>Guni</td>\n",
       "    </tr>\n",
       "    <tr>\n",
       "      <th>5</th>\n",
       "      <td>nOjbJdw2dPs</td>\n",
       "      <td>Man</td>\n",
       "    </tr>\n",
       "    <tr>\n",
       "      <th>6</th>\n",
       "      <td>nOjbJdw2dPs</td>\n",
       "      <td>(Official</td>\n",
       "    </tr>\n",
       "    <tr>\n",
       "      <th>7</th>\n",
       "      <td>nOjbJdw2dPs</td>\n",
       "      <td>Visualizer)</td>\n",
       "    </tr>\n",
       "    <tr>\n",
       "      <th>8</th>\n",
       "      <td>nOjbJdw2dPs</td>\n",
       "      <td>JungleEnt</td>\n",
       "    </tr>\n",
       "    <tr>\n",
       "      <th>9</th>\n",
       "      <td>nOjbJdw2dPs</td>\n",
       "      <td>World</td>\n",
       "    </tr>\n",
       "    <tr>\n",
       "      <th>10</th>\n",
       "      <td>nOjbJdw2dPs</td>\n",
       "      <td>Afro</td>\n",
       "    </tr>\n",
       "    <tr>\n",
       "      <th>11</th>\n",
       "      <td>nOjbJdw2dPs</td>\n",
       "      <td>Beat</td>\n",
       "    </tr>\n",
       "    <tr>\n",
       "      <th>12</th>\n",
       "      <td>nOjbJdw2dPs</td>\n",
       "      <td>Dancehall</td>\n",
       "    </tr>\n",
       "    <tr>\n",
       "      <th>13</th>\n",
       "      <td>7g71VmQzyD4</td>\n",
       "      <td>Jericho</td>\n",
       "    </tr>\n",
       "    <tr>\n",
       "      <th>14</th>\n",
       "      <td>7g71VmQzyD4</td>\n",
       "      <td>BLING4</td>\n",
       "    </tr>\n",
       "    <tr>\n",
       "      <th>15</th>\n",
       "      <td>7g71VmQzyD4</td>\n",
       "      <td>Bagga</td>\n",
       "    </tr>\n",
       "    <tr>\n",
       "      <th>16</th>\n",
       "      <td>7g71VmQzyD4</td>\n",
       "      <td>Ragga-Soca</td>\n",
       "    </tr>\n",
       "    <tr>\n",
       "      <th>17</th>\n",
       "      <td>7g71VmQzyD4</td>\n",
       "      <td>reggae</td>\n",
       "    </tr>\n",
       "    <tr>\n",
       "      <th>18</th>\n",
       "      <td>7g71VmQzyD4</td>\n",
       "      <td>pop</td>\n",
       "    </tr>\n",
       "    <tr>\n",
       "      <th>19</th>\n",
       "      <td>7g71VmQzyD4</td>\n",
       "      <td>collab</td>\n",
       "    </tr>\n",
       "  </tbody>\n",
       "</table>\n",
       "</div>"
      ],
      "text/plain": [
       "       video_id    video_tags\n",
       "0   nOjbJdw2dPs       Freeman\n",
       "1   nOjbJdw2dPs           HKD\n",
       "2   nOjbJdw2dPs           Nox\n",
       "3   nOjbJdw2dPs         Tyfah\n",
       "4   nOjbJdw2dPs          Guni\n",
       "5   nOjbJdw2dPs           Man\n",
       "6   nOjbJdw2dPs     (Official\n",
       "7   nOjbJdw2dPs   Visualizer)\n",
       "8   nOjbJdw2dPs     JungleEnt\n",
       "9   nOjbJdw2dPs         World\n",
       "10  nOjbJdw2dPs          Afro\n",
       "11  nOjbJdw2dPs          Beat\n",
       "12  nOjbJdw2dPs     Dancehall\n",
       "13  7g71VmQzyD4       Jericho\n",
       "14  7g71VmQzyD4        BLING4\n",
       "15  7g71VmQzyD4         Bagga\n",
       "16  7g71VmQzyD4    Ragga-Soca\n",
       "17  7g71VmQzyD4        reggae\n",
       "18  7g71VmQzyD4           pop\n",
       "19  7g71VmQzyD4        collab"
      ]
     },
     "execution_count": 38,
     "metadata": {},
     "output_type": "execute_result"
    }
   ],
   "source": [
    "df_bridge_no_dups.head(20)"
   ]
  },
  {
   "cell_type": "code",
   "execution_count": 39,
   "id": "28938374",
   "metadata": {},
   "outputs": [
    {
     "data": {
      "text/plain": [
       "video_tags\n",
       "nan                              4632\n",
       " shorts                           400\n",
       " funny                            382\n",
       " comedy                           346\n",
       " 2023                             342\n",
       "                                 ... \n",
       " спрятался под домом стримера       1\n",
       " шпана дерзко                       1\n",
       " дерзко 69                          1\n",
       " дерзко                             1\n",
       " #2023                              1\n",
       "Name: count, Length: 169167, dtype: int64"
      ]
     },
     "execution_count": 39,
     "metadata": {},
     "output_type": "execute_result"
    }
   ],
   "source": [
    "df_bridge_no_dups['video_tags'].value_counts()"
   ]
  },
  {
   "cell_type": "code",
   "execution_count": 40,
   "id": "12f755aa",
   "metadata": {},
   "outputs": [
    {
     "data": {
      "text/plain": [
       "video_tags\n",
       " shorts                          400\n",
       " funny                           382\n",
       " comedy                          346\n",
       " 2023                            342\n",
       " vlog                            334\n",
       "                                ... \n",
       " спрятался под домом стримера      1\n",
       " шпана дерзко                      1\n",
       " дерзко 69                         1\n",
       " дерзко                            1\n",
       " #2023                             1\n",
       "Name: count, Length: 169166, dtype: int64"
      ]
     },
     "execution_count": 40,
     "metadata": {},
     "output_type": "execute_result"
    }
   ],
   "source": [
    "#remove nan values \n",
    "df_bridge_clean = df_bridge_no_dups[df_bridge_no_dups['video_tags'] != 'nan']\n",
    "df_bridge_clean['video_tags'].value_counts()"
   ]
  },
  {
   "cell_type": "code",
   "execution_count": 41,
   "id": "b673cb0f",
   "metadata": {
    "scrolled": true
   },
   "outputs": [
    {
     "data": {
      "text/plain": [
       "Index(['title', 'channel_name', 'daily_rank', 'daily_movement',\n",
       "       'weekly_movement', 'snapshot_date', 'country', 'view_count',\n",
       "       'like_count', 'comment_count', 'description', 'video_id', 'channel_id',\n",
       "       'video_tags', 'publish_date', 'language'],\n",
       "      dtype='object')"
      ]
     },
     "execution_count": 41,
     "metadata": {},
     "output_type": "execute_result"
    }
   ],
   "source": [
    "df_reduced.columns"
   ]
  },
  {
   "cell_type": "code",
   "execution_count": 42,
   "id": "b484f633",
   "metadata": {},
   "outputs": [
    {
     "data": {
      "text/plain": [
       "title\n",
       "The GiRL survives on the island #camping #survival #bushcraft #outdoors #coffee             770\n",
       "Short Friend Pranked Her First 😂 #shorts                                                    618\n",
       "عشرات الشبان يرشقون القوات الإسرائيلية بالحجارة في رام الله                                 606\n",
       "Tyson Fury vs. Francis Ngannou | Fight Highlights                                           599\n",
       "Climbing to 10M Subscribers 🏆                                                               588\n",
       "                                                                                           ... \n",
       "Abot Kamay Na Pangarap: Full Episode 366 (November 9, 2023)                                   1\n",
       "FPJ's Batang Quiapo | Episode 192 (3/3) | November 9, 2023 (with Eng Subs)                    1\n",
       "Showtime Online U | November 10, 2023                                                         1\n",
       "Heart broken moments of Maulana Tariq Jameel #tariqjameel #molanatariqjameel #asimjameel      1\n",
       "Gor Yepremyan - Sirts tam qo srti khatr (Official video)                                      1\n",
       "Name: count, Length: 21318, dtype: int64"
      ]
     },
     "execution_count": 42,
     "metadata": {},
     "output_type": "execute_result"
    }
   ],
   "source": [
    "df_reduced['title'].value_counts()"
   ]
  },
  {
   "cell_type": "code",
   "execution_count": 43,
   "id": "c3b1d656",
   "metadata": {},
   "outputs": [
    {
     "data": {
      "text/plain": [
       "channel_name\n",
       "MrBeast           1930\n",
       "DaFuq!?Boom!      1187\n",
       "Celine Dept       1120\n",
       "HYBE LABELS       1027\n",
       "Koray Zeynep       984\n",
       "                  ... \n",
       "SPEAK                1\n",
       "三立台劇 SET Drama       1\n",
       "INNNEWS              1\n",
       "9MCOT                1\n",
       "HolleTV              1\n",
       "Name: count, Length: 11006, dtype: int64"
      ]
     },
     "execution_count": 43,
     "metadata": {},
     "output_type": "execute_result"
    }
   ],
   "source": [
    "df_reduced['channel_name'].value_counts()"
   ]
  },
  {
   "cell_type": "code",
   "execution_count": 44,
   "id": "e0fb80a7",
   "metadata": {
    "scrolled": true
   },
   "outputs": [
    {
     "data": {
      "text/plain": [
       "description\n",
       "nan                                                                                                                                                                                                                                                                                                                                                                                                                                                                                                                                                                                                                                                                                                                                                                                                                                                                                                                                                                                                                                                                                                                                                                                                                                                                                                                                                                                                                                                                                                                                                                                                                                                                                                                                                                                                                                                                                                                                                                                                                                                                                                                                                                                                                                                                                                                                                                                                                                                                                                                                                                                                                                                                                                                                                                                                                                                                                                                                            25470\n",
       "Hey Alan Army, this is Alan Chikin Chow! Thanks for watching my video 😍\\n\\n#Shorts \\n\\nFollow me on IG for your daily dose of Chikin 🐥\\nIG: https://www.instagram.com/alanchikinchow\\n\\nSubscribe and hit the bell notification so you never miss a video! 😉\\n\\n🔥 WHO AM I 🔥\\nHey Alan Army, I'm Alan Chikin Chow!\\nI'm a creator, actor & writer. My mission is to inspire a universal audience to unite through laughter and storytelling. 🤍\\n#AlanArmy                                                                                                                                                                                                                                                                                                                                                                                                                                                                                                                                                                                                                                                                                                                                                                                                                                                                                                                                                                                                                                                                                                                                                                                                                                                                                                                                                                                                                                                                                                                                                                                                                                                                                                                                                                                                                                                                                                                                                                                                                                                                                                                                                                                                                                                                                                                                                                                                                                                                                        913\n",
       "Wow!                                                                                                                                                                                                                                                                                                                                                                                                                                                                                                                                                                                                                                                                                                                                                                                                                                                                                                                                                                                                                                                                                                                                                                                                                                                                                                                                                                                                                                                                                                                                                                                                                                                                                                                                                                                                                                                                                                                                                                                                                                                                                                                                                                                                                                                                                                                                                                                                                                                                                                                                                                                                                                                                                                                                                                                                                                                                                                                                             815\n",
       "✔️ Subscribe to ESPN+ http://espnplus.com/youtube\\n✔️ Get the ESPN App: http://www.espn.com/espn/apps/espn\\n✔️ Subscribe to ESPN on YouTube: http://es.pn/SUBSCRIBEtoYOUTUBE\\n✔️ Subscribe to NBA on ESPN on YouTube: http://bit.ly/SUBSCRIBEtoNBAonESPN\\n✔️ Watch ESPN on YouTube TV: http://es.pn/YouTubeTV                                                                                                                                                                                                                                                                                                                                                                                                                                                                                                                                                                                                                                                                                                                                                                                                                                                                                                                                                                                                                                                                                                                                                                                                                                                                                                                                                                                                                                                                                                                                                                                                                                                                                                                                                                                                                                                                                                                                                                                                                                                                                                                                                                                                                                                                                                                                                                                                                                                                                                                                                                                                                                    804\n",
       "Ripe coconut has a very dense and solid shell, which can be used without problems as a mug and even boil water. On this island, everything is valued except coconuts and everything they contain, so don’t worry about coconut water, there is more of it here than fresh water.\\n👋 About me:\\nhttps://linktr.ee/MShiklina\\n💋Subscribe to my social networks:\\nhttps://instagram.com/marusya.shiklina\\nhttps://www.tiktok.com/@marusya.shiklina\\nHello 🙋‍♀\\nPlease leave a comment ✍\\nThis will help my channel 💝\\nAnd if you have someone to share my video with, please send it❗\\nAlso like my video if you liked it 👍\\nAnd subscribe to my channel 📺 :  @marusya_outdoors  \\n🥰Donations for the development of my activities and paid messages! Thank you!\\nhttps://www.donationalerts.com/r/marusyashik\\n📩Send me an email if there are proposals for business cooperation💰\\n🤝 Business cooperation with Marusya: adshiklina@gmail.com                                                                                                                                                                                                                                                                                                                                                                                                                                                                                                                                                                                                                                                                                                                                                                                                                                                                                                                                                                                                                                                                                                                                                                                                                                                                                                                                                                                                                                                                                                                                                                                                                                                                                                                                                                                                                                                                                                                                                                                                       770\n",
       "                                                                                                                                                                                                                                                                                                                                                                                                                                                                                                                                                                                                                                                                                                                                                                                                                                                                                                                                                                                                                                                                                                                                                                                                                                                                                                                                                                                                                                                                                                                                                                                                                                                                                                                                                                                                                                                                                                                                                                                                                                                                                                                                                                                                                                                                                                                                                                                                                                                                                                                                                                                                                                                                                                                                                                                                                                                                                                                                               ...  \n",
       "รวมคำถามยอดฮิต\\n1. ถ้าอาวุธ+HP%เป็นออฟรอง ให้ใส่ถ้วยน้ำ ถ้าไม่ใช่ถ้วย HP%\\n2. ER190 สำหรับทีมที่ทำของเสร็จแล้ว และมีดาเมจจริง ถ้าไม่ใช่ อัด220ไปเลย ถ้าใส่ธาตุน้ำอีก1ตัว สามารถลด ERได้40%\\n3. ดาบ BPใหม่(Wolf-Fang) ไม่สามารถแสดงผลนอกสนามได้ ฉะนั้นถ้าไม่ได้เอาน้องยืนสนาม ดาบนี้ไม่ดีนะคับ\\n4. C2 ถ้วยอะไรก็ได้เลือกเอาเลย แนะนำถ้วยนำเพราะทำ Sub-Stat ง่ายกว่า\\n5. ฮีลแนะนำ1 Jean / Sayu / Baizhu / Yao Yao / Charlotte / Kokomi / อื่นๆที่ฮิลแล้วเด้งทั้งทีม\\n6. วิธีดูว่าบัฟ Furina เต็ม คือ ให้สังเกตจะเห็นว่าฟองน้ำระเบิดในจอของเรา ดูยากหน่อยนะ\\n7. พรสวรรค์อัพ Skill = Burst เท่าๆกันได้เลย\\n8. C2 ถ้วยน้ำดีกว่า ถ้วย HP% = 1%\\n9. โบนัสความเสียหายที่น้องแจกให้กับทั้งทีม ไม่มีผลกับดาเมจมะเฟือง และปฏิกรยาธาตุอื่นๆเลย ยกเว้นแค่ ละลาย/ระเหย ที่มีผล\\n10. C0-C2 ดาเมจรวมบัฟเพื่อนจากที่ Cal มันได้ประมาณ80% แต่ส่วนตัว Furina เองจะ+ที่50% อันนี้ถ้า SIM เข้าจะมาอัพเดทอีกทีนะคับ\\n- Code : ​EA8RWDMBVRTR\\n\\n*ช่องทางการสมัคร Member นะคับ :\\nhttps://www.youtube.com/channel/UClns-mkWsQ4V7fNtZ-U-36w/join\\n\\nช่องทางที่สามารถ Donate ขั้นต่ำ 10 บาท Paypal ขั้นต่ำ20 บาทนะคับ(ไม่งั้นเขาหักหมดเลย)\\n1 Truewallet / PromptPay / LinePay(ขึ้นโชว์ในสตรีม) : https://tipme.in.th/37a6eff34d7792c420fbf85d\\n2 Paypal : https://streamlabs.com/hookhuukgaming/tip\\n\\nสามารถติดตามผลงาน สปอนเซอร์ และ เข้าร่วม Community ได้ที่\\n+ Youtube : https://www.youtube.com/c/HookHuukGaming/\\n+ Facebook : https://www.facebook.com/HookHuukGaming\\n+ Discord : https://discord.gg/acg3g9GRdd\\n+ Email : hookhuukgaming@gmail.com\\n+ Tel : 0631965993\\n\\nSponsor ของเราาาาาาา\\n+ Ihavecpu(ร้านคอมที่ข้าวอร่อยที่สุดในโลก!) : https://www.facebook.com/CPUCore2Duo\\n+ Mercular (ร้านขายGadget) กดที่ลิ้งค์ก่อนช๊อปเพื่อสนับสนุนช่องนะคับ : https://bit.ly/41J2pCY\\nใส่โค้ด HOOKGAME200 ลดเพิ่ม 200 บาท (ขั้นต่ำ 1,200.- ไม่จำกัดหมวดหมู่สินค้า) คูปองหมดอายุ 31ธค.\\n+ รัชตกายา(คลีนิคกายภาพที่ผมรักษาอยู่) แจ้งว่ามาจากช่องตรวจฟรี+ลด10% สอบถามทาง Line : 0969328645\\nสาขา บางนา-ลาซาล \\nแผนที่ https://goo.gl/maps/tTEfT1yJ19fZDKKMA\\nสาขา กัลปพฤกษ์-ราชพฤกษ์\\nแผนที่ https://goo.gl/maps/zfYF3ZLaJKpnhZ5u9\\nสาขา ดอนเมือง-สรงประภา \\nแผนที่ https://goo.gl/maps/ktTUHz96YomQowop9\\n\\nSpec Com ที่ผมใช้จาก Ihavecpu (ลื่นหัวทิ่ม)\\n+ Ryzen9 5950X\\n+ RTX 3070ti\\n+ Ram32 GB\\n+ ชุดน้ำปิด\\n+ WD Black 1TB\\n\\n00:00 Intro\\n1:14 1. บัฟดาเมจเยอะมาก แต่บังคับตัวฮีลทั้งทีม\\n3:59 2. ดาเมจส่วนตัวแรง และใช่บังคับตัวฮีลทั้งทีม\\n5:37 3. เป็นตัวแปะน้ำรองไม่ใช่หลัก\\n8:03 4. เปลี่ยนเป็นเสาฮีลได้ทุกที่ทุกเวลา แต่ไม่แปะธาตุให้นะ\\n9:11 5. ทีมจัดได้หลากหลายมากๆ แต่ต้องมีตัวฮีลนะโว้ย!\\n15:04 6. มาเป็นนักล่าสัตว์น้ำกันเถอะ\\n15:27 7. ไม่จำเป็นต้องเปิดอาวุธประจำตัว\\n17:34 8. AF ถ้วย HP แต่เพื่อนยังใส่ถ้วยธาตุเป็นหลักเหมือนเดิม\\n19:18 Constellaion แนะนำ\\n20:06 จอบอออ\\n\\n\\n\\n#Furina #HoYoCREATORS #GenshinGuide #คำแนะนำGenshin #focalors #Neuvillette #fontaine #อาวุธ #เกนชินอิมแพค #genshinimpact #hookhuuk #hookhuukgaming #แนะนำ        1\n",
       "แม้ว่าบีจีปทุมจะพ่ายแพ้ให้กับคาวาซากิฟอลตาเล่ไป 4-2\\nครึ่งแรกนี่สนุกเลยครับผลัดกันยิง\\nซึ่ง 2 ประตูของชนาธิป ที่ยิงให้กับบีจีปทุมนั้น ก็มี สตอลี่\\nเรื่องราวพอสมควรนะครับ กับแฟนบอลญี่ปุ่น\\nเกมนี้ เล่นกันผิดพลาดพอสมควรนะครับเสียไปถึง 2 จุดโทษ\\nและอีกหนึ่งใบแดง แต่ฟอร์มการเล่นโดยรวมของทีมนั้น\\nก็ถือว่า ดูดีกว่าเกมแรกที่เล่นในบ้านอย่างมากเลยนะครับ\\nขณะที่บีจีปทุม ผ่าน 4 นัดยังคงไม่มีแต้ม แพ้รวดทั้ง 4 เกม\\nเหลืออีก 2 นัด ได้ลุ้น ว่าจะมีแต้มในฤดูกาลนี้หรือเปล่า\\n\\nเดี๋ยววันนี้จะพาไปดูกันหน่อยซิว่าแฟนบอลญี่ปุ่นนั้น\\nมีความคิดเห็นยังไงกันบ้าง หลังจากที่ชนาธิปยิงไป 2 ประตู ใส่ทีมเก่า\\n______________\\n\\n1-บางทีฉันอาจจะคิดถูกแล้วที่โอนิกิ\\nไม่สามารถดึงศักยภาพของชนาได้\\n\\n2-แน่ใจหรือว่าชนามีผลงานที่ย่ำแย่ \\nหลังจากที่เขาทำประตูได้ ยังคงพากันคิดยังงั้นอยู่ไหม\\n\\n3-หลังจากที่ทำประตูชนาก็ไม่ได้ดีใจอะไรมากมาย\\nยังคงคำนึงถึงสโมสรเก่าและแฟนบอล\\nทำให้เราไม่ได้รู้สึกแย่อะไรเลย\\n\\n4-นี่มันเกมนัดเกษียณ อำลา ของชนารึเปล่าวะเนี่ย\\n\\n5-อย่างกับว่ามันเหมือนฟอร์มการเล่นในบ้านของชนายังไงยังงั้น\\n\\n6-ขอนักเตะแบบชนะครับ\\n\\n7-เอาซะเกือบคิดว่าไปซื้อชนากลับมาอีก\\n\\n8-ครึ่งหลังควรจะตายชนา\\n\\n9-มันเหมือนกับการแก้แค้นของชนามากกว่า 555\\n\\n\\n\\n#คอมเมนต์แฟนบอลญี่ปุ่น #ชนาธิป #คาวาซากิ #ฟรอนตาเล่ #คอมเม้นญี่ปุ่น \\n---------------------\\nกดแชร์ กดถูกใจ กดติดตามไว้ด้วยนะครับ\\nโปรด กด subscribe รับแจ้งเตือนไว้ด้วยนะครับ                                                                                                                                                                                                                                                                                                                                                                                                                                                                                                                                                                                                                                                                                                                                                                                                                                                                                                                                                                                                                                                                                                                                                                                                                                                                                                                                                                                                                                                                                                                                                                                                 1\n",
       "Godzilla Minus One | Trailer Legendado\\n\\nAssista ao novo trailer de #gozillaminusone\\n\\nSomos o melhor destino para quem busca trailers assim que eles são lançados.\\n\\nSe você é fã de cinema como a gente, INSCREVA-SE e receba todas as novidades dos seus filmes favoritos!\\n\\n► Baixe nossos apps:\\nAndroid: https://goo.gl/ZOknfm\\niOS: https://goo.gl/hFbnMY\\n\\n► Compre ingressos para as melhores estreias: https://www.ingresso.com\\n\\n► Siga a Ingresso no INSTAGRAM: https://bit.ly/34bD7k7\\n\\n► Curta a Ingresso no FACEBOOK: https://goo.gl/E7qjw\\n\\n► Fique por dentro das novidades do universo do cinema no nosso canal no TELEGRAM: https://t.me/ingressocom                                                                                                                                                                                                                                                                                                                                                                                                                                                                                                                                                                                                                                                                                                                                                                                                                                                                                                                                                                                                                                                                                                                                                                                                                                                                                                                                                                                                                                                                                                                                                                                                                                                                                                                                                                                                                                                                                                                                                                                                                                                                                                                                                                                                                                                                    1\n",
       "🥊 [Live] ศึกมวยมันส์สนั่นเมือง | เวทีมวยรังสิต | 07 พฤศจิกายน 2566\\n\\n[ #ดูมวยสด ช่วงที่ 1 - 18.00-20.30 น. ]\\nคู่ที่ 1 เพชรสีดำ ศิษย์เจริญทรัพย์  VS  แสนซนเล็ก สิงห์ศรราม\\nคู่ที่ 2 เพชรสีแดง ศิษย์เจริญทรัพย์  VS  ขุนหาญ ไกรศิระภพบ๊อกซิ่งยิมส์\\nคู่ที่ 3 เตียวหุย  หนุ่ย 93  VS  บรรลังค์เงิน  อ.ยุทธชัย \\n\\n[คู่เอก] 🔥 เฉียบขาด ป.พงษ์สว่าง  VS  เหนือเพชร ทีเด็ด99\\n\\n[ #ดูมวยสด ช่วงที่ 2 - 20.30-22.30 น. ]\\nคู่ที่ 1 พญาต่อ เพชรนาคา  VS  เฮงเฮง อ.วันเชิด\\nคู่ที่ 2 ไกรฤทธ์  ไกรศิระภพบ๊อกซิ่ง  VS  ดาวเหนือ  แสงทองค้าแก็ส\\nคู่ที่ 3 ศรทนง  รถสวยจ่าเจตสายพริ้ว  VS  โซระ  บ้านแรมบ้า\\n\\n[คู่เอก] 🔥 คม คมกริชก่อสร้าง  VS  เหนือพยัคฆ์  พุฒิประชาชื่น\\n\\nรับชมถ่ายทอดสด #ศึกมวยมันส์สนั่นเมือง ทุกวันอังคาร 18.00-22.30 น.\\n📺 TV : #True4U\\n📱 Facebook / Youtube : #มวยเด็ด789\\n\\n-------------------------------------\\n🙏🏻 ฝากติดตาม \"มวยเด็ด789\" ในทุกๆช่องทาง 👉 https://linktr.ee/muayded789 👈 \\n🔴 สนใจติดต่อโฆษณา : muayded789@gmail.com                                                                                                                                                                                                                                                                                                                                                                                                                                                                                                                                                                                                                                                                                                                                                                                                                                                                                                                                                                                                                                                                                                                                                                                                                                                                                                                                                                                                                                                                                                                                                                                                                                                                                                                                                                                                                                                                                                                                                                                           1\n",
       "Music: Gor Yepremyan \\nLyrics: Grigor Kyokchyan\\nMusic Arrangement by: Arsen Barsamyan\\nKamancha by: Vardan Baghdasaryan\\nCinematographer: Armen Mnacakanyan\\nEdited by: Karen Melkumyan\\nModel: SilvY \\nHairstyle: Arsen Isahakyan\\nMakeup: Tina White\\nProducer: Aleksandr Stepanyan\\n\\nDedicated to Hasmik from Sirak\\n\\nAll rights reserved!\\nPlease do not copy and place in youtube!\\n\\nInstagram: https://www.instagram.com/goryepremyanofficial/\\n\\nFacebook Official Page: https://www.facebook.com/GorYepremyanOfficial\\n\\nhttp://yepremyan.com/\\n\\nFor Concerts and Corporate events out of USA please contact Aleksandr Stepanyan +374 91 421660                                                                                                                                                                                                                                                                                                                                                                                                                                                                                                                                                                                                                                                                                                                                                                                                                                                                                                                                                                                                                                                                                                                                                                                                                                                                                                                                                                                                                                                                                                                                                                                                                                                                                                                                                                                                                                                                                                                                                                                                                                                                                                                                                                                                                                                                                       1\n",
       "Name: count, Length: 18198, dtype: int64"
      ]
     },
     "execution_count": 44,
     "metadata": {},
     "output_type": "execute_result"
    }
   ],
   "source": [
    "df_reduced['description'].value_counts()"
   ]
  },
  {
   "cell_type": "code",
   "execution_count": 45,
   "id": "e71b0141",
   "metadata": {},
   "outputs": [],
   "source": [
    "#drop description column from reduced df version due to its unstructured nature\n",
    "df_reduced=df_reduced.drop(columns=['description'])"
   ]
  },
  {
   "cell_type": "code",
   "execution_count": 46,
   "id": "ade90319",
   "metadata": {},
   "outputs": [
    {
     "data": {
      "text/plain": [
       "Index(['title', 'channel_name', 'daily_rank', 'daily_movement',\n",
       "       'weekly_movement', 'snapshot_date', 'country', 'view_count',\n",
       "       'like_count', 'comment_count', 'video_id', 'channel_id', 'video_tags',\n",
       "       'publish_date', 'language'],\n",
       "      dtype='object')"
      ]
     },
     "execution_count": 46,
     "metadata": {},
     "output_type": "execute_result"
    }
   ],
   "source": [
    "df_reduced.columns"
   ]
  },
  {
   "cell_type": "code",
   "execution_count": 47,
   "id": "ca0801c2",
   "metadata": {
    "scrolled": true
   },
   "outputs": [
    {
     "data": {
      "text/plain": [
       "video_tags\n",
       "nan                                                                                                                                                                                                                                                                                                                                                                                                                                                                                                     50420\n",
       "#camping, #survival, #bushcraft, #outdoors                                                                                                                                                                                                                                                                                                                                                                                                                                                                928\n",
       "tibo inshape, teamshape                                                                                                                                                                                                                                                                                                                                                                                                                                                                                   763\n",
       "crash adams, crashadams, crash adams music, crashadams music, crash adams new music, crashadams new music, new crash adams video                                                                                                                                                                                                                                                                                                                                                                          727\n",
       "skits, skitsful, tik tok, tik tok prank, prank wars, Funny Pranks phone, American Pranks, American Prank, prank ideas, Top prank, SMOL, 123go, fun, funny, challenge, prank, play, pranks, hacks, comedy, 5 minute crafts, la la life, troom troom, crafty panda, shorts, youtubeshorts, tutorial, DIY Tricks, TikTok Pranks, Tutorial, How To, Life Hacks, Hacks, Tricks, DIY, tricks, tiktok, tiktok compilation, family, how to, howto, xo tik tok, xo team tik tok                                    624\n",
       "                                                                                                                                                                                                                                                                                                                                                                                                                                                                                                        ...  \n",
       "logan paul podcast, impaulsive podcast, logan paul, jake paul brother, shorts, logan paul clips, drink prime, brutally honest prime review, shark tank prime, logan paul shark tank, mark cuban tries prime, celebrity drinking prime, dallas mavericks prime, shark tank pitch                                                                                                                                                                                                                             1\n",
       "lego, lego airport, airport, massive airport, big airport, big lego airport                                                                                                                                                                                                                                                                                                                                                                                                                                 1\n",
       "Fußball, Fussball, DFB, DFB-Pokal, DFB Pokal, Pokal, DFB-Pokal Runde 2, 2. Runde, 2. DFB-Pokal-Runde, Hauptrunde, DFB-Pokal Highlights, DFB-Pokal Zusammenfassung, Borussia Dortmund, TSG Hoffenheim, Borussia Dortmund TSG Hoffenheim, TSG Hoffenheim Borussia Dortmund, Borussia Dortmund TSG Hoffenheim Highlights, TSG Hoffenheim Borussia Dortmund Highlights, TSG Hoffenheim Dortmund Zusammenfassung, Dortmund Hoffenheim Zusammenfassung, Marco Reus Tor, Kabak rote karte, ZDF, sportstudio        1\n",
       "FC Bayern München, Bayern Munich, FCB, FC Bayern, Fußball, Football, Soccer, Training, Live, Livestream, Öffentlich, PK, Tuchel, Pressetalk, Bundesliga, Medienrunde, Press Talk, DFB Pokal, Pokal, Saarbrücken, Saarbrücken Bayern                                                                                                                                                                                                                                                                         1\n",
       "սիրտս տամ քո սրտի խաթր, сиртс там ко срти хатр, гор епремян, armenian music, #Premiere, #haykakan, #yerevan, #goryepremyan, #new, #hitt, #2023                                                                                                                                                                                                                                                                                                                                                              1\n",
       "Name: count, Length: 13604, dtype: int64"
      ]
     },
     "execution_count": 47,
     "metadata": {},
     "output_type": "execute_result"
    }
   ],
   "source": [
    "df_reduced['video_tags'].value_counts()"
   ]
  },
  {
   "cell_type": "code",
   "execution_count": 48,
   "id": "c9bfc623",
   "metadata": {},
   "outputs": [
    {
     "data": {
      "text/plain": [
       "language\n",
       "nan      52518\n",
       "en       37041\n",
       "ar       13693\n",
       "en-US    11670\n",
       "es        8808\n",
       "         ...  \n",
       "tg           1\n",
       "my           1\n",
       "ky           1\n",
       "fr-BE        1\n",
       "uz           1\n",
       "Name: count, Length: 121, dtype: int64"
      ]
     },
     "execution_count": 48,
     "metadata": {},
     "output_type": "execute_result"
    }
   ],
   "source": [
    "df_reduced['language'].value_counts()"
   ]
  },
  {
   "cell_type": "code",
   "execution_count": 63,
   "id": "e5ed9610-7b47-429b-a4bf-fbc8bcd6833b",
   "metadata": {},
   "outputs": [
    {
     "data": {
      "text/plain": [
       "(2997432, 2)"
      ]
     },
     "execution_count": 63,
     "metadata": {},
     "output_type": "execute_result"
    }
   ],
   "source": [
    "df_bridge.shape"
   ]
  },
  {
   "cell_type": "code",
   "execution_count": 62,
   "id": "336228df-ee5c-42d5-8f79-0783c492e215",
   "metadata": {},
   "outputs": [
    {
     "data": {
      "text/plain": [
       "(330637, 2)"
      ]
     },
     "execution_count": 62,
     "metadata": {},
     "output_type": "execute_result"
    }
   ],
   "source": [
    "df_bridge_clean.shape"
   ]
  },
  {
   "cell_type": "code",
   "execution_count": 49,
   "id": "1b83756e",
   "metadata": {},
   "outputs": [],
   "source": [
    "# Export data to csv\n",
    "\n",
    "df_bridge_clean.to_csv(os.path.join(path,'02_Data','02_Prepared_Data', 'yt_video_tags.csv'),index=False)"
   ]
  },
  {
   "cell_type": "code",
   "execution_count": 60,
   "id": "59533e50-3858-4b8d-b920-7ed4510e4dbd",
   "metadata": {},
   "outputs": [
    {
     "data": {
      "text/plain": [
       "(197757, 18)"
      ]
     },
     "execution_count": 60,
     "metadata": {},
     "output_type": "execute_result"
    }
   ],
   "source": [
    "df.shape"
   ]
  },
  {
   "cell_type": "code",
   "execution_count": 50,
   "id": "17e6e318",
   "metadata": {},
   "outputs": [],
   "source": [
    "# Export data to pkl\n",
    "\n",
    "df.to_pickle(os.path.join(path,'02_Data','02_Prepared_Data', 'trending_yt_videos_full_checked.pkl'))"
   ]
  },
  {
   "cell_type": "code",
   "execution_count": 51,
   "id": "e66f386e",
   "metadata": {},
   "outputs": [],
   "source": [
    "# Export data to pkl\n",
    "\n",
    "df_reduced.to_pickle(os.path.join(path,'02_Data','02_Prepared_Data', 'trending_yt_videos_reduced_clean.pkl'))"
   ]
  },
  {
   "cell_type": "code",
   "execution_count": 61,
   "id": "10dbb23a-a8a3-4e90-99f9-dbfabe3d2797",
   "metadata": {},
   "outputs": [
    {
     "data": {
      "text/plain": [
       "(197757, 15)"
      ]
     },
     "execution_count": 61,
     "metadata": {},
     "output_type": "execute_result"
    }
   ],
   "source": [
    "df_reduced.shape"
   ]
  },
  {
   "cell_type": "code",
   "execution_count": 52,
   "id": "5d090e98-274e-475f-bf3d-8575c43c542e",
   "metadata": {},
   "outputs": [],
   "source": [
    "# Export data to csv\n",
    "\n",
    "df.to_csv(os.path.join(path,'02_Data','02_Prepared_Data', 'trending_yt_videos_full_checked.csv'), index=False)"
   ]
  },
  {
   "cell_type": "code",
   "execution_count": 53,
   "id": "2293ed1a-fb5e-4f04-991c-bde90056a81f",
   "metadata": {},
   "outputs": [],
   "source": [
    "# Export data to csv\n",
    "\n",
    "df_reduced.to_csv(os.path.join(path,'02_Data','02_Prepared_Data', 'trending_yt_videos_reduced_clean.csv'), index=False)"
   ]
  },
  {
   "cell_type": "code",
   "execution_count": 54,
   "id": "042cb6da-997f-4260-9fdd-b45417767a0c",
   "metadata": {},
   "outputs": [],
   "source": [
    "np.random.seed(4)\n",
    "dev = np.random.rand(len(df_reduced)) <= 0.7"
   ]
  },
  {
   "cell_type": "code",
   "execution_count": 55,
   "id": "b408994b-1408-43b8-ac31-c760285a0102",
   "metadata": {},
   "outputs": [],
   "source": [
    "big = df_reduced[dev]\n",
    "small = df_reduced[~dev]"
   ]
  },
  {
   "cell_type": "code",
   "execution_count": 56,
   "id": "fc643577-637c-4b3d-8a16-ef643a6973f8",
   "metadata": {},
   "outputs": [
    {
     "data": {
      "text/plain": [
       "(138456, 15)"
      ]
     },
     "execution_count": 56,
     "metadata": {},
     "output_type": "execute_result"
    }
   ],
   "source": [
    "big.shape"
   ]
  },
  {
   "cell_type": "code",
   "execution_count": 57,
   "id": "c7821482-5970-447e-916f-78110321ff12",
   "metadata": {},
   "outputs": [
    {
     "data": {
      "text/plain": [
       "(59301, 15)"
      ]
     },
     "execution_count": 57,
     "metadata": {},
     "output_type": "execute_result"
    }
   ],
   "source": [
    "small.shape"
   ]
  },
  {
   "cell_type": "code",
   "execution_count": 58,
   "id": "ba7e575b-3817-4f63-9324-235341d41f82",
   "metadata": {},
   "outputs": [],
   "source": [
    "# Export data to csv\n",
    "\n",
    "big.to_csv(os.path.join(path,'02_Data','02_Prepared_Data', 'trending_yt_videos_reduced_big_sample.csv'), index=False)"
   ]
  },
  {
   "cell_type": "code",
   "execution_count": 59,
   "id": "2679e81d-a258-4c5c-a13b-deed1f3961a0",
   "metadata": {},
   "outputs": [],
   "source": [
    "# Export data to csv\n",
    "\n",
    "small.to_csv(os.path.join(path,'02_Data','02_Prepared_Data', 'trending_yt_videos_reduced_small_sample.csv'), index=False)"
   ]
  }
 ],
 "metadata": {
  "kernelspec": {
   "display_name": "Python 3 (ipykernel)",
   "language": "python",
   "name": "python3"
  },
  "language_info": {
   "codemirror_mode": {
    "name": "ipython",
    "version": 3
   },
   "file_extension": ".py",
   "mimetype": "text/x-python",
   "name": "python",
   "nbconvert_exporter": "python",
   "pygments_lexer": "ipython3",
   "version": "3.11.5"
  }
 },
 "nbformat": 4,
 "nbformat_minor": 5
}
