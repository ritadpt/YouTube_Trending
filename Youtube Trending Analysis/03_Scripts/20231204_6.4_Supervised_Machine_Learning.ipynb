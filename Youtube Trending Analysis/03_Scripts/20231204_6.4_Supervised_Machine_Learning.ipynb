{
 "cells": [
  {
   "cell_type": "markdown",
   "id": "b109c25e-ebcf-423a-b14f-b9b1f452ab0c",
   "metadata": {},
   "source": [
    "#6.4 Supervised Machine Learning"
   ]
  },
  {
   "cell_type": "markdown",
   "id": "335ed000-bf28-4ace-b1d1-70e84321a7a8",
   "metadata": {},
   "source": [
    "Content:\n",
    "- Task 2 import libraries\n",
    "- Task 3 import and clean dataset\n",
    "- Task 4 explore the data visually through a scatterplot\n",
    "- Task 5 hypothesis to be tested\n",
    "- Task 6 reshape the variables into NumPy arrays\n",
    "- Task 7 split the data into a training set and a test set\n",
    "- Task 8 run a linear regression on the data\n",
    "- Task 9 create a plot that shows the regression line on the test set\n",
    "- Task 10 write the interpretation of how well the line appears to fit the data\n",
    "- Task 11 check the model performance statistics\n",
    "- Task 12 compare the predicted y values with the actual y values in a dataframe\n",
    "- Task 13 include your thoughts on how well the model performed on the test"
   ]
  },
  {
   "cell_type": "markdown",
   "id": "39cb36e9-afbd-450a-ab3e-6cf3414b614c",
   "metadata": {},
   "source": [
    "Task 2 - Import Libraries"
   ]
  },
  {
   "cell_type": "code",
   "execution_count": 1,
   "id": "c7871c99-1de8-425a-9425-d1418cb70360",
   "metadata": {},
   "outputs": [],
   "source": [
    "#import libraries\n",
    "import pandas as pd\n",
    "import numpy as np\n",
    "import seaborn as sns\n",
    "import matplotlib\n",
    "import matplotlib.pyplot as plt\n",
    "import os\n",
    "import sklearn\n",
    "from sklearn.model_selection import train_test_split\n",
    "from sklearn.linear_model import LinearRegression\n",
    "from sklearn.metrics import mean_squared_error, r2_score"
   ]
  },
  {
   "cell_type": "markdown",
   "id": "e0d41c79-8401-406f-a71f-7c8aa4fcf435",
   "metadata": {},
   "source": [
    "Task 3 - Import and clean Dataset"
   ]
  },
  {
   "cell_type": "code",
   "execution_count": 2,
   "id": "7008f1a8-3cb6-4bf0-8891-736e0cd722ab",
   "metadata": {},
   "outputs": [],
   "source": [
    "#set path\n",
    "path=r'C:\\Users\\EliteMini HX90\\OneDrive\\Documents\\CareerFoundry\\Achievement_6'"
   ]
  },
  {
   "cell_type": "code",
   "execution_count": 3,
   "id": "b7f4d17b-3fb5-4965-9bd4-77ffcb88f36c",
   "metadata": {},
   "outputs": [],
   "source": [
    "#import dataset\n",
    "df=pd.read_pickle(os.path.join(path,'02_Data','02_Prepared_Data','trending_yt_videos_reduced_clean.pkl'))"
   ]
  },
  {
   "cell_type": "code",
   "execution_count": 4,
   "id": "b9320871-4692-4b4f-99f8-9e5d304ad07b",
   "metadata": {},
   "outputs": [
    {
     "data": {
      "text/plain": [
       "(197757, 15)"
      ]
     },
     "execution_count": 4,
     "metadata": {},
     "output_type": "execute_result"
    }
   ],
   "source": [
    "df.shape"
   ]
  },
  {
   "cell_type": "code",
   "execution_count": 5,
   "id": "46f1e45c-911f-4dd8-8a17-7d87a5a5bab8",
   "metadata": {},
   "outputs": [
    {
     "data": {
      "text/html": [
       "<div>\n",
       "<style scoped>\n",
       "    .dataframe tbody tr th:only-of-type {\n",
       "        vertical-align: middle;\n",
       "    }\n",
       "\n",
       "    .dataframe tbody tr th {\n",
       "        vertical-align: top;\n",
       "    }\n",
       "\n",
       "    .dataframe thead th {\n",
       "        text-align: right;\n",
       "    }\n",
       "</style>\n",
       "<table border=\"1\" class=\"dataframe\">\n",
       "  <thead>\n",
       "    <tr style=\"text-align: right;\">\n",
       "      <th></th>\n",
       "      <th>title</th>\n",
       "      <th>channel_name</th>\n",
       "      <th>daily_rank</th>\n",
       "      <th>daily_movement</th>\n",
       "      <th>weekly_movement</th>\n",
       "      <th>snapshot_date</th>\n",
       "      <th>country</th>\n",
       "      <th>view_count</th>\n",
       "      <th>like_count</th>\n",
       "      <th>comment_count</th>\n",
       "      <th>video_id</th>\n",
       "      <th>channel_id</th>\n",
       "      <th>video_tags</th>\n",
       "      <th>publish_date</th>\n",
       "      <th>language</th>\n",
       "    </tr>\n",
       "  </thead>\n",
       "  <tbody>\n",
       "    <tr>\n",
       "      <th>0</th>\n",
       "      <td>Freeman HKD, Nox, Tyfah Guni - Man To Man (Off...</td>\n",
       "      <td>FreemanHKDVEVO</td>\n",
       "      <td>1</td>\n",
       "      <td>0</td>\n",
       "      <td>0</td>\n",
       "      <td>2023-11-29</td>\n",
       "      <td>ZW</td>\n",
       "      <td>659445</td>\n",
       "      <td>12525</td>\n",
       "      <td>1154</td>\n",
       "      <td>nOjbJdw2dPs</td>\n",
       "      <td>UCBqFAZ41zHq5h5-7A1YpiuQ</td>\n",
       "      <td>Freeman, HKD, Nox, Tyfah, Guni, Man, (Official...</td>\n",
       "      <td>2023-11-02 00:00:00+00:00</td>\n",
       "      <td>nan</td>\n",
       "    </tr>\n",
       "    <tr>\n",
       "      <th>1</th>\n",
       "      <td>Nutty O - Jericho ft. BLING4 &amp; Bagga</td>\n",
       "      <td>NuttyOVEVO</td>\n",
       "      <td>2</td>\n",
       "      <td>0</td>\n",
       "      <td>48</td>\n",
       "      <td>2023-11-29</td>\n",
       "      <td>ZW</td>\n",
       "      <td>96852</td>\n",
       "      <td>6361</td>\n",
       "      <td>795</td>\n",
       "      <td>7g71VmQzyD4</td>\n",
       "      <td>UCwY1uVRu0ML4wWBm9pGZy_g</td>\n",
       "      <td>Jericho, BLING4, Bagga, Ragga-Soca, reggae, po...</td>\n",
       "      <td>2023-11-23 00:00:00+00:00</td>\n",
       "      <td>nan</td>\n",
       "    </tr>\n",
       "    <tr>\n",
       "      <th>2</th>\n",
       "      <td>Kamo Mphela, Khalil Harrison &amp; Tyler ICU - Dal...</td>\n",
       "      <td>Kamo Mphelaxx</td>\n",
       "      <td>3</td>\n",
       "      <td>0</td>\n",
       "      <td>47</td>\n",
       "      <td>2023-11-29</td>\n",
       "      <td>ZW</td>\n",
       "      <td>1236824</td>\n",
       "      <td>41518</td>\n",
       "      <td>1290</td>\n",
       "      <td>hcqcy6cdCw8</td>\n",
       "      <td>UCfYbXQVQZYoISJzqBdH15Eg</td>\n",
       "      <td>kamo mphela, tyler icu, dalie, Mnike, Amapiano...</td>\n",
       "      <td>2023-11-22 00:00:00+00:00</td>\n",
       "      <td>nan</td>\n",
       "    </tr>\n",
       "    <tr>\n",
       "      <th>3</th>\n",
       "      <td>Garnacho UNBELIEVABLE Overhead Kick! 🤩 | Evert...</td>\n",
       "      <td>Manchester United</td>\n",
       "      <td>4</td>\n",
       "      <td>1</td>\n",
       "      <td>46</td>\n",
       "      <td>2023-11-29</td>\n",
       "      <td>ZW</td>\n",
       "      <td>6607439</td>\n",
       "      <td>153575</td>\n",
       "      <td>5580</td>\n",
       "      <td>qgmhQZzoy1s</td>\n",
       "      <td>UC6yW44UGJJBvYTlfC7CRg2Q</td>\n",
       "      <td>manchester united, mufc, man utd, manutd, mu, ...</td>\n",
       "      <td>2023-11-26 00:00:00+00:00</td>\n",
       "      <td>en-GB</td>\n",
       "    </tr>\n",
       "    <tr>\n",
       "      <th>4</th>\n",
       "      <td>Drake - First Person Shooter ft. J. Cole</td>\n",
       "      <td>DrakeVEVO</td>\n",
       "      <td>5</td>\n",
       "      <td>-1</td>\n",
       "      <td>-3</td>\n",
       "      <td>2023-11-29</td>\n",
       "      <td>ZW</td>\n",
       "      <td>19193308</td>\n",
       "      <td>858667</td>\n",
       "      <td>36413</td>\n",
       "      <td>Xty2gi5cMa8</td>\n",
       "      <td>UCQznUf1SjfDqx65hX3zRDiA</td>\n",
       "      <td>Drake, First, Person, Shooter, OVO/Republic, H...</td>\n",
       "      <td>2023-11-15 00:00:00+00:00</td>\n",
       "      <td>en</td>\n",
       "    </tr>\n",
       "  </tbody>\n",
       "</table>\n",
       "</div>"
      ],
      "text/plain": [
       "                                               title       channel_name  \\\n",
       "0  Freeman HKD, Nox, Tyfah Guni - Man To Man (Off...     FreemanHKDVEVO   \n",
       "1               Nutty O - Jericho ft. BLING4 & Bagga         NuttyOVEVO   \n",
       "2  Kamo Mphela, Khalil Harrison & Tyler ICU - Dal...      Kamo Mphelaxx   \n",
       "3  Garnacho UNBELIEVABLE Overhead Kick! 🤩 | Evert...  Manchester United   \n",
       "4           Drake - First Person Shooter ft. J. Cole          DrakeVEVO   \n",
       "\n",
       "   daily_rank  daily_movement  weekly_movement snapshot_date country  \\\n",
       "0           1               0                0    2023-11-29      ZW   \n",
       "1           2               0               48    2023-11-29      ZW   \n",
       "2           3               0               47    2023-11-29      ZW   \n",
       "3           4               1               46    2023-11-29      ZW   \n",
       "4           5              -1               -3    2023-11-29      ZW   \n",
       "\n",
       "   view_count  like_count  comment_count     video_id  \\\n",
       "0      659445       12525           1154  nOjbJdw2dPs   \n",
       "1       96852        6361            795  7g71VmQzyD4   \n",
       "2     1236824       41518           1290  hcqcy6cdCw8   \n",
       "3     6607439      153575           5580  qgmhQZzoy1s   \n",
       "4    19193308      858667          36413  Xty2gi5cMa8   \n",
       "\n",
       "                 channel_id  \\\n",
       "0  UCBqFAZ41zHq5h5-7A1YpiuQ   \n",
       "1  UCwY1uVRu0ML4wWBm9pGZy_g   \n",
       "2  UCfYbXQVQZYoISJzqBdH15Eg   \n",
       "3  UC6yW44UGJJBvYTlfC7CRg2Q   \n",
       "4  UCQznUf1SjfDqx65hX3zRDiA   \n",
       "\n",
       "                                          video_tags  \\\n",
       "0  Freeman, HKD, Nox, Tyfah, Guni, Man, (Official...   \n",
       "1  Jericho, BLING4, Bagga, Ragga-Soca, reggae, po...   \n",
       "2  kamo mphela, tyler icu, dalie, Mnike, Amapiano...   \n",
       "3  manchester united, mufc, man utd, manutd, mu, ...   \n",
       "4  Drake, First, Person, Shooter, OVO/Republic, H...   \n",
       "\n",
       "                publish_date language  \n",
       "0  2023-11-02 00:00:00+00:00      nan  \n",
       "1  2023-11-23 00:00:00+00:00      nan  \n",
       "2  2023-11-22 00:00:00+00:00      nan  \n",
       "3  2023-11-26 00:00:00+00:00    en-GB  \n",
       "4  2023-11-15 00:00:00+00:00       en  "
      ]
     },
     "execution_count": 5,
     "metadata": {},
     "output_type": "execute_result"
    }
   ],
   "source": [
    "df.head()"
   ]
  },
  {
   "cell_type": "code",
   "execution_count": 6,
   "id": "6cacbca5-7e3d-4ff7-97f5-fbd6f88b3a2b",
   "metadata": {},
   "outputs": [
    {
     "data": {
      "text/html": [
       "<div>\n",
       "<style scoped>\n",
       "    .dataframe tbody tr th:only-of-type {\n",
       "        vertical-align: middle;\n",
       "    }\n",
       "\n",
       "    .dataframe tbody tr th {\n",
       "        vertical-align: top;\n",
       "    }\n",
       "\n",
       "    .dataframe thead th {\n",
       "        text-align: right;\n",
       "    }\n",
       "</style>\n",
       "<table border=\"1\" class=\"dataframe\">\n",
       "  <thead>\n",
       "    <tr style=\"text-align: right;\">\n",
       "      <th></th>\n",
       "      <th>daily_rank</th>\n",
       "      <th>daily_movement</th>\n",
       "      <th>weekly_movement</th>\n",
       "      <th>view_count</th>\n",
       "      <th>like_count</th>\n",
       "      <th>comment_count</th>\n",
       "    </tr>\n",
       "  </thead>\n",
       "  <tbody>\n",
       "    <tr>\n",
       "      <th>count</th>\n",
       "      <td>197757.000000</td>\n",
       "      <td>197757.000000</td>\n",
       "      <td>197757.000000</td>\n",
       "      <td>1.977570e+05</td>\n",
       "      <td>1.977570e+05</td>\n",
       "      <td>197757.000000</td>\n",
       "    </tr>\n",
       "    <tr>\n",
       "      <th>mean</th>\n",
       "      <td>25.500771</td>\n",
       "      <td>3.369292</td>\n",
       "      <td>19.905141</td>\n",
       "      <td>8.681297e+06</td>\n",
       "      <td>3.066996e+05</td>\n",
       "      <td>8041.094834</td>\n",
       "    </tr>\n",
       "    <tr>\n",
       "      <th>std</th>\n",
       "      <td>14.431243</td>\n",
       "      <td>19.823211</td>\n",
       "      <td>19.247727</td>\n",
       "      <td>1.851627e+07</td>\n",
       "      <td>7.169108e+05</td>\n",
       "      <td>32774.369653</td>\n",
       "    </tr>\n",
       "    <tr>\n",
       "      <th>min</th>\n",
       "      <td>1.000000</td>\n",
       "      <td>-49.000000</td>\n",
       "      <td>-49.000000</td>\n",
       "      <td>0.000000e+00</td>\n",
       "      <td>0.000000e+00</td>\n",
       "      <td>0.000000</td>\n",
       "    </tr>\n",
       "    <tr>\n",
       "      <th>25%</th>\n",
       "      <td>13.000000</td>\n",
       "      <td>-9.000000</td>\n",
       "      <td>7.000000</td>\n",
       "      <td>3.580290e+05</td>\n",
       "      <td>1.132800e+04</td>\n",
       "      <td>390.000000</td>\n",
       "    </tr>\n",
       "    <tr>\n",
       "      <th>50%</th>\n",
       "      <td>26.000000</td>\n",
       "      <td>-1.000000</td>\n",
       "      <td>21.000000</td>\n",
       "      <td>1.269470e+06</td>\n",
       "      <td>4.472300e+04</td>\n",
       "      <td>1193.000000</td>\n",
       "    </tr>\n",
       "    <tr>\n",
       "      <th>75%</th>\n",
       "      <td>38.000000</td>\n",
       "      <td>15.000000</td>\n",
       "      <td>35.000000</td>\n",
       "      <td>6.643707e+06</td>\n",
       "      <td>2.468800e+05</td>\n",
       "      <td>3855.000000</td>\n",
       "    </tr>\n",
       "    <tr>\n",
       "      <th>max</th>\n",
       "      <td>50.000000</td>\n",
       "      <td>49.000000</td>\n",
       "      <td>49.000000</td>\n",
       "      <td>2.335466e+08</td>\n",
       "      <td>1.576806e+07</td>\n",
       "      <td>954336.000000</td>\n",
       "    </tr>\n",
       "  </tbody>\n",
       "</table>\n",
       "</div>"
      ],
      "text/plain": [
       "          daily_rank  daily_movement  weekly_movement    view_count  \\\n",
       "count  197757.000000   197757.000000    197757.000000  1.977570e+05   \n",
       "mean       25.500771        3.369292        19.905141  8.681297e+06   \n",
       "std        14.431243       19.823211        19.247727  1.851627e+07   \n",
       "min         1.000000      -49.000000       -49.000000  0.000000e+00   \n",
       "25%        13.000000       -9.000000         7.000000  3.580290e+05   \n",
       "50%        26.000000       -1.000000        21.000000  1.269470e+06   \n",
       "75%        38.000000       15.000000        35.000000  6.643707e+06   \n",
       "max        50.000000       49.000000        49.000000  2.335466e+08   \n",
       "\n",
       "         like_count  comment_count  \n",
       "count  1.977570e+05  197757.000000  \n",
       "mean   3.066996e+05    8041.094834  \n",
       "std    7.169108e+05   32774.369653  \n",
       "min    0.000000e+00       0.000000  \n",
       "25%    1.132800e+04     390.000000  \n",
       "50%    4.472300e+04    1193.000000  \n",
       "75%    2.468800e+05    3855.000000  \n",
       "max    1.576806e+07  954336.000000  "
      ]
     },
     "execution_count": 6,
     "metadata": {},
     "output_type": "execute_result"
    }
   ],
   "source": [
    "df.describe()"
   ]
  },
  {
   "cell_type": "code",
   "execution_count": 7,
   "id": "52fa5006-0b1b-4b6c-9737-827a8466946e",
   "metadata": {},
   "outputs": [],
   "source": [
    "# calculate IQR for column view_count\n",
    "Q1 = df['view_count'].quantile(0.25)\n",
    "Q3 = df['view_count'].quantile(0.75)\n",
    "IQR = Q3 - Q1\n",
    "\n",
    "# identify outliers\n",
    "threshold = 2\n",
    "outliers_1 = df[(df['view_count'] < Q1 - threshold * IQR) | (df['view_count'] > Q3 + threshold * IQR)]"
   ]
  },
  {
   "cell_type": "code",
   "execution_count": 8,
   "id": "f9ea077c-c7ae-4009-87c3-cc6249b3d101",
   "metadata": {},
   "outputs": [
    {
     "data": {
      "text/plain": [
       "(26970, 15)"
      ]
     },
     "execution_count": 8,
     "metadata": {},
     "output_type": "execute_result"
    }
   ],
   "source": [
    "outliers_1.shape"
   ]
  },
  {
   "cell_type": "code",
   "execution_count": 9,
   "id": "63f052bb-0336-4a45-97ac-8442f335539c",
   "metadata": {},
   "outputs": [],
   "source": [
    "# calculate IQR for column like_count\n",
    "Q1 = df['like_count'].quantile(0.25)\n",
    "Q3 = df['like_count'].quantile(0.75)\n",
    "IQR = Q3 - Q1\n",
    "\n",
    "# identify outliers\n",
    "threshold = 2\n",
    "outliers_2 = df[(df['like_count'] < Q1 - threshold * IQR) | (df['like_count'] > Q3 + threshold * IQR)]"
   ]
  },
  {
   "cell_type": "code",
   "execution_count": 10,
   "id": "ef07260d-595c-45de-9595-b8d13eeb5daf",
   "metadata": {},
   "outputs": [
    {
     "data": {
      "text/plain": [
       "(24228, 15)"
      ]
     },
     "execution_count": 10,
     "metadata": {},
     "output_type": "execute_result"
    }
   ],
   "source": [
    "outliers_2.shape"
   ]
  },
  {
   "cell_type": "code",
   "execution_count": 11,
   "id": "b27a51ff-21b8-4649-80bf-50514927f445",
   "metadata": {},
   "outputs": [],
   "source": [
    "# calculate IQR for column comment_count\n",
    "Q1 = df['comment_count'].quantile(0.25)\n",
    "Q3 = df['comment_count'].quantile(0.75)\n",
    "IQR = Q3 - Q1\n",
    "\n",
    "# identify outliers\n",
    "threshold = 2\n",
    "outliers_3 = df[(df['comment_count'] < Q1 - threshold * IQR) | (df['comment_count'] > Q3 + threshold * IQR)]"
   ]
  },
  {
   "cell_type": "code",
   "execution_count": 12,
   "id": "bf281ce4-d09e-4da0-ae2c-33f52f1b03e0",
   "metadata": {},
   "outputs": [
    {
     "data": {
      "text/plain": [
       "(21673, 15)"
      ]
     },
     "execution_count": 12,
     "metadata": {},
     "output_type": "execute_result"
    }
   ],
   "source": [
    "outliers_3.shape"
   ]
  },
  {
   "cell_type": "markdown",
   "id": "3ba742f4-0d78-4ee5-b2ed-b31b7fbedc18",
   "metadata": {},
   "source": [
    "The large amount of outliers and our earlier understanding of the data suggests that these cannot be eliminated without hurting the analysis, being part of what contributes to the richness of the dataset. "
   ]
  },
  {
   "cell_type": "markdown",
   "id": "b9e79b21-ae73-4ae2-8961-115454400b62",
   "metadata": {},
   "source": [
    "Task 4 - Explore the Data Visually"
   ]
  },
  {
   "cell_type": "code",
   "execution_count": 13,
   "id": "5cf2e6cf-633f-4d5f-a277-4810aee2c2a1",
   "metadata": {},
   "outputs": [
    {
     "data": {
      "image/png": "[encoded data removed]",
      "text/plain": [
       "<Figure size 640x480 with 1 Axes>"
      ]
     },
     "metadata": {},
     "output_type": "display_data"
    }
   ],
   "source": [
    "#create scatterplot of view_count and like_count\n",
    "df.plot(x = 'view_count', y='like_count',style='o')\n",
    "plt.title('Number of Views vs Number of Likes')  \n",
    "plt.xlabel('Number of Views')  \n",
    "plt.ylabel('Number of Likes')  \n",
    "plt.show()"
   ]
  },
  {
   "cell_type": "markdown",
   "id": "2b483a89-e970-4d9b-9e35-0c74699e0f5d",
   "metadata": {},
   "source": [
    "Task 5 - State your Hypothesis"
   ]
  },
  {
   "cell_type": "markdown",
   "id": "15522f54-961f-4c26-b5af-e59107f2faa7",
   "metadata": {},
   "source": [
    "Hypothesis: The more views a video gets, the more likes it also receives. As the value of view_count increases, so does the value of like_count."
   ]
  },
  {
   "cell_type": "markdown",
   "id": "ee75e747-0f7d-4bd7-a3b1-33c5fdbf721c",
   "metadata": {},
   "source": [
    "Task 6 - reshape the variables into NumPys arrays"
   ]
  },
  {
   "cell_type": "code",
   "execution_count": 14,
   "id": "20ff17ab-11a5-476c-babd-b1a3bd39f59d",
   "metadata": {},
   "outputs": [],
   "source": [
    "#reshape the variables we need into numpy arrays and put them into separate objects\n",
    "X=df['view_count'].values.reshape(-1,1)\n",
    "y=df['like_count'].values.reshape(-1,1)"
   ]
  },
  {
   "cell_type": "code",
   "execution_count": 15,
   "id": "c41ca7c1-e9d0-4dea-a791-7277d609f1e2",
   "metadata": {},
   "outputs": [
    {
     "data": {
      "text/plain": [
       "array([[ 659445],\n",
       "       [  96852],\n",
       "       [1236824],\n",
       "       ...,\n",
       "       [2076478],\n",
       "       [1190917],\n",
       "       [1206689]], dtype=int64)"
      ]
     },
     "execution_count": 15,
     "metadata": {},
     "output_type": "execute_result"
    }
   ],
   "source": [
    "X"
   ]
  },
  {
   "cell_type": "code",
   "execution_count": 16,
   "id": "33dea3de-d2a4-435c-841d-e904e2d6b7ae",
   "metadata": {},
   "outputs": [
    {
     "data": {
      "text/plain": [
       "array([[ 12525],\n",
       "       [  6361],\n",
       "       [ 41518],\n",
       "       ...,\n",
       "       [197026],\n",
       "       [ 88558],\n",
       "       [ 15521]], dtype=int64)"
      ]
     },
     "execution_count": 16,
     "metadata": {},
     "output_type": "execute_result"
    }
   ],
   "source": [
    "y"
   ]
  },
  {
   "cell_type": "markdown",
   "id": "d8047f9d-28c0-4bf5-a3ee-008d798cfc5f",
   "metadata": {},
   "source": [
    "Task 7 - Split the data into two sets: a training set and a test set"
   ]
  },
  {
   "cell_type": "code",
   "execution_count": 17,
   "id": "5db9908a-16ca-4732-a4bc-b9c045fc2f57",
   "metadata": {},
   "outputs": [],
   "source": [
    "#split data into train set and test set\n",
    "\n",
    "X_train, X_test, y_train, y_test = train_test_split(X, y, test_size=0.3,random_state=0)"
   ]
  },
  {
   "cell_type": "markdown",
   "id": "f6224cfb-8c6f-4529-a624-b6b5f615e9d3",
   "metadata": {},
   "source": [
    "Task 8 - Run a linear regression on the data"
   ]
  },
  {
   "cell_type": "code",
   "execution_count": 18,
   "id": "f9ee03ee-2624-4e92-b702-380aaa120df0",
   "metadata": {},
   "outputs": [],
   "source": [
    "#create a regression object\n",
    "regression = LinearRegression()"
   ]
  },
  {
   "cell_type": "code",
   "execution_count": 19,
   "id": "dc185ee0-d52e-4974-aadd-8dbdc1031faf",
   "metadata": {},
   "outputs": [
    {
     "data": {
      "text/html": [
       "<style>#sk-container-id-1 {color: black;background-color: white;}#sk-container-id-1 pre{padding: 0;}#sk-container-id-1 div.sk-toggleable {background-color: white;}#sk-container-id-1 label.sk-toggleable__label {cursor: pointer;display: block;width: 100%;margin-bottom: 0;padding: 0.3em;box-sizing: border-box;text-align: center;}#sk-container-id-1 label.sk-toggleable__label-arrow:before {content: \"▸\";float: left;margin-right: 0.25em;color: #696969;}#sk-container-id-1 label.sk-toggleable__label-arrow:hover:before {color: black;}#sk-container-id-1 div.sk-estimator:hover label.sk-toggleable__label-arrow:before {color: black;}#sk-container-id-1 div.sk-toggleable__content {max-height: 0;max-width: 0;overflow: hidden;text-align: left;background-color: #f0f8ff;}#sk-container-id-1 div.sk-toggleable__content pre {margin: 0.2em;color: black;border-radius: 0.25em;background-color: #f0f8ff;}#sk-container-id-1 input.sk-toggleable__control:checked~div.sk-toggleable__content {max-height: 200px;max-width: 100%;overflow: auto;}#sk-container-id-1 input.sk-toggleable__control:checked~label.sk-toggleable__label-arrow:before {content: \"▾\";}#sk-container-id-1 div.sk-estimator input.sk-toggleable__control:checked~label.sk-toggleable__label {background-color: #d4ebff;}#sk-container-id-1 div.sk-label input.sk-toggleable__control:checked~label.sk-toggleable__label {background-color: #d4ebff;}#sk-container-id-1 input.sk-hidden--visually {border: 0;clip: rect(1px 1px 1px 1px);clip: rect(1px, 1px, 1px, 1px);height: 1px;margin: -1px;overflow: hidden;padding: 0;position: absolute;width: 1px;}#sk-container-id-1 div.sk-estimator {font-family: monospace;background-color: #f0f8ff;border: 1px dotted black;border-radius: 0.25em;box-sizing: border-box;margin-bottom: 0.5em;}#sk-container-id-1 div.sk-estimator:hover {background-color: #d4ebff;}#sk-container-id-1 div.sk-parallel-item::after {content: \"\";width: 100%;border-bottom: 1px solid gray;flex-grow: 1;}#sk-container-id-1 div.sk-label:hover label.sk-toggleable__label {background-color: #d4ebff;}#sk-container-id-1 div.sk-serial::before {content: \"\";position: absolute;border-left: 1px solid gray;box-sizing: border-box;top: 0;bottom: 0;left: 50%;z-index: 0;}#sk-container-id-1 div.sk-serial {display: flex;flex-direction: column;align-items: center;background-color: white;padding-right: 0.2em;padding-left: 0.2em;position: relative;}#sk-container-id-1 div.sk-item {position: relative;z-index: 1;}#sk-container-id-1 div.sk-parallel {display: flex;align-items: stretch;justify-content: center;background-color: white;position: relative;}#sk-container-id-1 div.sk-item::before, #sk-container-id-1 div.sk-parallel-item::before {content: \"\";position: absolute;border-left: 1px solid gray;box-sizing: border-box;top: 0;bottom: 0;left: 50%;z-index: -1;}#sk-container-id-1 div.sk-parallel-item {display: flex;flex-direction: column;z-index: 1;position: relative;background-color: white;}#sk-container-id-1 div.sk-parallel-item:first-child::after {align-self: flex-end;width: 50%;}#sk-container-id-1 div.sk-parallel-item:last-child::after {align-self: flex-start;width: 50%;}#sk-container-id-1 div.sk-parallel-item:only-child::after {width: 0;}#sk-container-id-1 div.sk-dashed-wrapped {border: 1px dashed gray;margin: 0 0.4em 0.5em 0.4em;box-sizing: border-box;padding-bottom: 0.4em;background-color: white;}#sk-container-id-1 div.sk-label label {font-family: monospace;font-weight: bold;display: inline-block;line-height: 1.2em;}#sk-container-id-1 div.sk-label-container {text-align: center;}#sk-container-id-1 div.sk-container {/* jupyter's `normalize.less` sets `[hidden] { display: none; }` but bootstrap.min.css set `[hidden] { display: none !important; }` so we also need the `!important` here to be able to override the default hidden behavior on the sphinx rendered scikit-learn.org. See: https://github.com/scikit-learn/scikit-learn/issues/21755 */display: inline-block !important;position: relative;}#sk-container-id-1 div.sk-text-repr-fallback {display: none;}</style><div id=\"sk-container-id-1\" class=\"sk-top-container\"><div class=\"sk-text-repr-fallback\"><pre>LinearRegression()</pre><b>In a Jupyter environment, please rerun this cell to show the HTML representation or trust the notebook. <br />On GitHub, the HTML representation is unable to render, please try loading this page with nbviewer.org.</b></div><div class=\"sk-container\" hidden><div class=\"sk-item\"><div class=\"sk-estimator sk-toggleable\"><input class=\"sk-toggleable__control sk-hidden--visually\" id=\"sk-estimator-id-1\" type=\"checkbox\" checked><label for=\"sk-estimator-id-1\" class=\"sk-toggleable__label sk-toggleable__label-arrow\">LinearRegression</label><div class=\"sk-toggleable__content\"><pre>LinearRegression()</pre></div></div></div></div></div>"
      ],
      "text/plain": [
       "LinearRegression()"
      ]
     },
     "execution_count": 19,
     "metadata": {},
     "output_type": "execute_result"
    }
   ],
   "source": [
    "#fit the regression to the train set\n",
    "regression.fit(X_train, y_train)"
   ]
  },
  {
   "cell_type": "code",
   "execution_count": 20,
   "id": "4113190a-fe73-4642-a451-83c9e2e95ae1",
   "metadata": {},
   "outputs": [],
   "source": [
    "#predict the values of y using X\n",
    "y_predicted=regression.predict(X_test)"
   ]
  },
  {
   "cell_type": "markdown",
   "id": "3594dda9-15ab-458f-a144-7b4543b98b0e",
   "metadata": {},
   "source": [
    "Task 9 - Create a plot that shows the regression line on the test set"
   ]
  },
  {
   "cell_type": "code",
   "execution_count": 21,
   "id": "8cac5d00-2d73-484b-8120-93a17061b087",
   "metadata": {},
   "outputs": [
    {
     "data": {
      "image/png": "[encoded data removed]",
      "text/plain": [
       "<Figure size 640x480 with 1 Axes>"
      ]
     },
     "metadata": {},
     "output_type": "display_data"
    }
   ],
   "source": [
    "# Create a plot that shows the regression line from the model on the test set.\n",
    "\n",
    "plot_test = plt\n",
    "plot_test.scatter(X_test, y_test, color='gray', s = 15)\n",
    "plot_test.plot(X_test, y_predicted, color='red', linewidth =3)\n",
    "plot_test.title('View Count vs Like Count (Test set)')\n",
    "plot_test.xlabel('View Count')\n",
    "plot_test.ylabel('Like Count')\n",
    "plot_test.show()"
   ]
  },
  {
   "cell_type": "markdown",
   "id": "6ea58633-8a26-42f3-bf82-635a98bf40e7",
   "metadata": {},
   "source": [
    "Task 10 - Interpretation of how well the line appears to fit the data"
   ]
  },
  {
   "cell_type": "markdown",
   "id": "ec2abd58-8697-43ba-ac69-786601de99fa",
   "metadata": {},
   "source": [
    "The line does not perfectly align with all points, with some observations having a very high number of likes despite having an average number of views and the opposite also being observed. It does not seem to fit the data particularly well."
   ]
  },
  {
   "cell_type": "markdown",
   "id": "244cc9d9-c805-4b5e-9400-4358e150001f",
   "metadata": {},
   "source": [
    "Task 11 - Check the model performance statistics"
   ]
  },
  {
   "cell_type": "code",
   "execution_count": 22,
   "id": "17c3970d-f620-495f-81d5-31eb67df9201",
   "metadata": {},
   "outputs": [],
   "source": [
    "#create objects that contain the model summary statistics.\n",
    "\n",
    "rmse = mean_squared_error(y_test, y_predicted) \n",
    "r2 = r2_score(y_test, y_predicted) "
   ]
  },
  {
   "cell_type": "code",
   "execution_count": 23,
   "id": "5704aa09-0d85-417c-915f-be953a1ee8ae",
   "metadata": {},
   "outputs": [
    {
     "name": "stdout",
     "output_type": "stream",
     "text": [
      "Slope: [[0.03199404]]\n",
      "Mean squared error:  160791564472.7313\n",
      "R2 score:  0.6855644583231639\n"
     ]
    }
   ],
   "source": [
    "#print the model summary statistics\n",
    "print('Slope:' ,regression.coef_)\n",
    "print('Mean squared error: ', rmse)\n",
    "print('R2 score: ', r2)"
   ]
  },
  {
   "cell_type": "markdown",
   "id": "bbb068ff-13fd-48a4-91a7-243ca4dea04d",
   "metadata": {},
   "source": [
    "Since the mean squared error is extremely large and the R2 score is not particularly high, this means the model is not a good fit."
   ]
  },
  {
   "cell_type": "markdown",
   "id": "c581d804-843e-4f84-87f4-708d4ad8530b",
   "metadata": {},
   "source": [
    "Task 12 - Compare the predicted y values with the actual y values in a dataframe"
   ]
  },
  {
   "cell_type": "code",
   "execution_count": 24,
   "id": "a3c8127b-e057-4f8a-aed5-8d987f9c7a52",
   "metadata": {},
   "outputs": [
    {
     "data": {
      "text/html": [
       "<div>\n",
       "<style scoped>\n",
       "    .dataframe tbody tr th:only-of-type {\n",
       "        vertical-align: middle;\n",
       "    }\n",
       "\n",
       "    .dataframe tbody tr th {\n",
       "        vertical-align: top;\n",
       "    }\n",
       "\n",
       "    .dataframe thead th {\n",
       "        text-align: right;\n",
       "    }\n",
       "</style>\n",
       "<table border=\"1\" class=\"dataframe\">\n",
       "  <thead>\n",
       "    <tr style=\"text-align: right;\">\n",
       "      <th></th>\n",
       "      <th>Actual</th>\n",
       "      <th>Predicted</th>\n",
       "    </tr>\n",
       "  </thead>\n",
       "  <tbody>\n",
       "    <tr>\n",
       "      <th>0</th>\n",
       "      <td>25503</td>\n",
       "      <td>5.799299e+04</td>\n",
       "    </tr>\n",
       "    <tr>\n",
       "      <th>1</th>\n",
       "      <td>1088</td>\n",
       "      <td>3.058578e+04</td>\n",
       "    </tr>\n",
       "    <tr>\n",
       "      <th>2</th>\n",
       "      <td>661</td>\n",
       "      <td>3.298741e+04</td>\n",
       "    </tr>\n",
       "    <tr>\n",
       "      <th>3</th>\n",
       "      <td>8634</td>\n",
       "      <td>3.807776e+04</td>\n",
       "    </tr>\n",
       "    <tr>\n",
       "      <th>4</th>\n",
       "      <td>81939</td>\n",
       "      <td>1.724955e+05</td>\n",
       "    </tr>\n",
       "    <tr>\n",
       "      <th>5</th>\n",
       "      <td>11930</td>\n",
       "      <td>4.055474e+04</td>\n",
       "    </tr>\n",
       "    <tr>\n",
       "      <th>6</th>\n",
       "      <td>541886</td>\n",
       "      <td>9.675248e+05</td>\n",
       "    </tr>\n",
       "    <tr>\n",
       "      <th>7</th>\n",
       "      <td>8042313</td>\n",
       "      <td>3.383802e+06</td>\n",
       "    </tr>\n",
       "    <tr>\n",
       "      <th>8</th>\n",
       "      <td>268599</td>\n",
       "      <td>2.245124e+05</td>\n",
       "    </tr>\n",
       "    <tr>\n",
       "      <th>9</th>\n",
       "      <td>3647</td>\n",
       "      <td>3.446794e+04</td>\n",
       "    </tr>\n",
       "    <tr>\n",
       "      <th>10</th>\n",
       "      <td>146301</td>\n",
       "      <td>6.464123e+04</td>\n",
       "    </tr>\n",
       "    <tr>\n",
       "      <th>11</th>\n",
       "      <td>2510</td>\n",
       "      <td>3.021955e+04</td>\n",
       "    </tr>\n",
       "    <tr>\n",
       "      <th>12</th>\n",
       "      <td>137778</td>\n",
       "      <td>2.035323e+05</td>\n",
       "    </tr>\n",
       "    <tr>\n",
       "      <th>13</th>\n",
       "      <td>284716</td>\n",
       "      <td>1.781635e+05</td>\n",
       "    </tr>\n",
       "    <tr>\n",
       "      <th>14</th>\n",
       "      <td>113446</td>\n",
       "      <td>1.120556e+05</td>\n",
       "    </tr>\n",
       "    <tr>\n",
       "      <th>15</th>\n",
       "      <td>2105</td>\n",
       "      <td>3.135409e+04</td>\n",
       "    </tr>\n",
       "    <tr>\n",
       "      <th>16</th>\n",
       "      <td>174422</td>\n",
       "      <td>9.235571e+04</td>\n",
       "    </tr>\n",
       "    <tr>\n",
       "      <th>17</th>\n",
       "      <td>3273</td>\n",
       "      <td>3.678581e+04</td>\n",
       "    </tr>\n",
       "    <tr>\n",
       "      <th>18</th>\n",
       "      <td>40635</td>\n",
       "      <td>4.583615e+04</td>\n",
       "    </tr>\n",
       "    <tr>\n",
       "      <th>19</th>\n",
       "      <td>125760</td>\n",
       "      <td>7.511387e+04</td>\n",
       "    </tr>\n",
       "    <tr>\n",
       "      <th>20</th>\n",
       "      <td>8254</td>\n",
       "      <td>4.237466e+04</td>\n",
       "    </tr>\n",
       "    <tr>\n",
       "      <th>21</th>\n",
       "      <td>239713</td>\n",
       "      <td>1.861758e+05</td>\n",
       "    </tr>\n",
       "    <tr>\n",
       "      <th>22</th>\n",
       "      <td>25068</td>\n",
       "      <td>5.593914e+04</td>\n",
       "    </tr>\n",
       "    <tr>\n",
       "      <th>23</th>\n",
       "      <td>295641</td>\n",
       "      <td>3.156276e+05</td>\n",
       "    </tr>\n",
       "    <tr>\n",
       "      <th>24</th>\n",
       "      <td>119472</td>\n",
       "      <td>5.816131e+04</td>\n",
       "    </tr>\n",
       "    <tr>\n",
       "      <th>25</th>\n",
       "      <td>3089105</td>\n",
       "      <td>5.013471e+06</td>\n",
       "    </tr>\n",
       "    <tr>\n",
       "      <th>26</th>\n",
       "      <td>43986</td>\n",
       "      <td>6.772123e+04</td>\n",
       "    </tr>\n",
       "    <tr>\n",
       "      <th>27</th>\n",
       "      <td>208501</td>\n",
       "      <td>3.147317e+05</td>\n",
       "    </tr>\n",
       "    <tr>\n",
       "      <th>28</th>\n",
       "      <td>1431455</td>\n",
       "      <td>3.525831e+06</td>\n",
       "    </tr>\n",
       "    <tr>\n",
       "      <th>29</th>\n",
       "      <td>404930</td>\n",
       "      <td>6.589276e+05</td>\n",
       "    </tr>\n",
       "  </tbody>\n",
       "</table>\n",
       "</div>"
      ],
      "text/plain": [
       "     Actual     Predicted\n",
       "0     25503  5.799299e+04\n",
       "1      1088  3.058578e+04\n",
       "2       661  3.298741e+04\n",
       "3      8634  3.807776e+04\n",
       "4     81939  1.724955e+05\n",
       "5     11930  4.055474e+04\n",
       "6    541886  9.675248e+05\n",
       "7   8042313  3.383802e+06\n",
       "8    268599  2.245124e+05\n",
       "9      3647  3.446794e+04\n",
       "10   146301  6.464123e+04\n",
       "11     2510  3.021955e+04\n",
       "12   137778  2.035323e+05\n",
       "13   284716  1.781635e+05\n",
       "14   113446  1.120556e+05\n",
       "15     2105  3.135409e+04\n",
       "16   174422  9.235571e+04\n",
       "17     3273  3.678581e+04\n",
       "18    40635  4.583615e+04\n",
       "19   125760  7.511387e+04\n",
       "20     8254  4.237466e+04\n",
       "21   239713  1.861758e+05\n",
       "22    25068  5.593914e+04\n",
       "23   295641  3.156276e+05\n",
       "24   119472  5.816131e+04\n",
       "25  3089105  5.013471e+06\n",
       "26    43986  6.772123e+04\n",
       "27   208501  3.147317e+05\n",
       "28  1431455  3.525831e+06\n",
       "29   404930  6.589276e+05"
      ]
     },
     "execution_count": 24,
     "metadata": {},
     "output_type": "execute_result"
    }
   ],
   "source": [
    "#crate df comparing the actual and predicted values of y\n",
    "data = pd.DataFrame({'Actual': y_test.flatten(), 'Predicted': y_predicted.flatten()})\n",
    "data.head(30)"
   ]
  },
  {
   "cell_type": "markdown",
   "id": "683e18f6-b071-49b3-9552-d5d23ca111e0",
   "metadata": {},
   "source": [
    "Task 13 - Include your thoughts on how well the model performed on the test set"
   ]
  },
  {
   "cell_type": "markdown",
   "id": "3f59a015-650c-46ed-aa12-4c996f540812",
   "metadata": {},
   "source": [
    "The values are almost unbelievably far from each other. The model has not performed well. My observation of the scatterplot and with the insight of all the metrics makes me think that the number of likes may grow at a higher rate for videos with average or below average number of views, while videos with a larger number of views have a more unexpected behaviour when it comes to number of likes, making the data unsuitable for making predictions since the relationship does not follow a simple, single and straight regression line."
   ]
  },
  {
   "cell_type": "markdown",
   "id": "c62f7cfb-07c0-4529-81ea-ef5f11f49a41",
   "metadata": {},
   "source": [
    "While the removel of outliers will have an impact on the validity of our analysis, it is worth to eliminate some extreme values from like_count to see if the regression model would perform better when only considering the more common patterns."
   ]
  },
  {
   "cell_type": "code",
   "execution_count": 25,
   "id": "de0dc86d-c020-427f-bf78-4f9d284003dd",
   "metadata": {},
   "outputs": [
    {
     "name": "stdout",
     "output_type": "stream",
     "text": [
      "235552.0\n"
     ]
    }
   ],
   "source": [
    "# calculate IQR for column like_count\n",
    "Q1 = df['like_count'].quantile(0.25)\n",
    "Q3 = df['like_count'].quantile(0.75)\n",
    "IQR = Q3 - Q1\n",
    "print(IQR)"
   ]
  },
  {
   "cell_type": "code",
   "execution_count": 26,
   "id": "309377c5-8c18-4a6f-9abe-530f42104f9c",
   "metadata": {},
   "outputs": [
    {
     "name": "stdout",
     "output_type": "stream",
     "text": [
      "717984.0\n"
     ]
    }
   ],
   "source": [
    "threshold = 2\n",
    "print(Q3 + threshold * IQR)"
   ]
  },
  {
   "cell_type": "code",
   "execution_count": 27,
   "id": "e025284f-ee11-4169-8080-345661d633fe",
   "metadata": {},
   "outputs": [],
   "source": [
    "#clean extreme values from the like_count variable\n",
    "df_test = df[df['like_count'] <=700000] "
   ]
  },
  {
   "cell_type": "code",
   "execution_count": 28,
   "id": "e75969fb-6409-4a5f-8bb8-83d66c0f76f1",
   "metadata": {},
   "outputs": [
    {
     "data": {
      "image/png": "[encoded data removed]",
      "text/plain": [
       "<Figure size 640x480 with 1 Axes>"
      ]
     },
     "metadata": {},
     "output_type": "display_data"
    }
   ],
   "source": [
    "#replot the scatterplot without outliers\n",
    "\n",
    "df_test.plot(x = 'view_count', y='like_count', style='o')  \n",
    "plt.title('Number of Views vs Number of Likes')  \n",
    "plt.xlabel('Number of Views')  \n",
    "plt.ylabel('Number of Likes')  \n",
    "plt.show()"
   ]
  },
  {
   "cell_type": "code",
   "execution_count": 29,
   "id": "f238eb03-c18c-4051-9bcb-355b5923c003",
   "metadata": {},
   "outputs": [],
   "source": [
    "#reshape again for df without outliers\n",
    "\n",
    "X_2 = df_test['view_count'].values.reshape(-1,1)\n",
    "y_2 = df_test['like_count'].values.reshape(-1,1)"
   ]
  },
  {
   "cell_type": "code",
   "execution_count": 30,
   "id": "f676959c-c135-477d-8164-50500aad938c",
   "metadata": {},
   "outputs": [],
   "source": [
    "X_train_2, X_test_2, y_train_2, y_test_2 = train_test_split(X_2, y_2, test_size=0.3, random_state=0)"
   ]
  },
  {
   "cell_type": "code",
   "execution_count": 31,
   "id": "4ad677cb-795d-4886-9c4f-f12a88b1e974",
   "metadata": {},
   "outputs": [
    {
     "data": {
      "text/html": [
       "<style>#sk-container-id-2 {color: black;background-color: white;}#sk-container-id-2 pre{padding: 0;}#sk-container-id-2 div.sk-toggleable {background-color: white;}#sk-container-id-2 label.sk-toggleable__label {cursor: pointer;display: block;width: 100%;margin-bottom: 0;padding: 0.3em;box-sizing: border-box;text-align: center;}#sk-container-id-2 label.sk-toggleable__label-arrow:before {content: \"▸\";float: left;margin-right: 0.25em;color: #696969;}#sk-container-id-2 label.sk-toggleable__label-arrow:hover:before {color: black;}#sk-container-id-2 div.sk-estimator:hover label.sk-toggleable__label-arrow:before {color: black;}#sk-container-id-2 div.sk-toggleable__content {max-height: 0;max-width: 0;overflow: hidden;text-align: left;background-color: #f0f8ff;}#sk-container-id-2 div.sk-toggleable__content pre {margin: 0.2em;color: black;border-radius: 0.25em;background-color: #f0f8ff;}#sk-container-id-2 input.sk-toggleable__control:checked~div.sk-toggleable__content {max-height: 200px;max-width: 100%;overflow: auto;}#sk-container-id-2 input.sk-toggleable__control:checked~label.sk-toggleable__label-arrow:before {content: \"▾\";}#sk-container-id-2 div.sk-estimator input.sk-toggleable__control:checked~label.sk-toggleable__label {background-color: #d4ebff;}#sk-container-id-2 div.sk-label input.sk-toggleable__control:checked~label.sk-toggleable__label {background-color: #d4ebff;}#sk-container-id-2 input.sk-hidden--visually {border: 0;clip: rect(1px 1px 1px 1px);clip: rect(1px, 1px, 1px, 1px);height: 1px;margin: -1px;overflow: hidden;padding: 0;position: absolute;width: 1px;}#sk-container-id-2 div.sk-estimator {font-family: monospace;background-color: #f0f8ff;border: 1px dotted black;border-radius: 0.25em;box-sizing: border-box;margin-bottom: 0.5em;}#sk-container-id-2 div.sk-estimator:hover {background-color: #d4ebff;}#sk-container-id-2 div.sk-parallel-item::after {content: \"\";width: 100%;border-bottom: 1px solid gray;flex-grow: 1;}#sk-container-id-2 div.sk-label:hover label.sk-toggleable__label {background-color: #d4ebff;}#sk-container-id-2 div.sk-serial::before {content: \"\";position: absolute;border-left: 1px solid gray;box-sizing: border-box;top: 0;bottom: 0;left: 50%;z-index: 0;}#sk-container-id-2 div.sk-serial {display: flex;flex-direction: column;align-items: center;background-color: white;padding-right: 0.2em;padding-left: 0.2em;position: relative;}#sk-container-id-2 div.sk-item {position: relative;z-index: 1;}#sk-container-id-2 div.sk-parallel {display: flex;align-items: stretch;justify-content: center;background-color: white;position: relative;}#sk-container-id-2 div.sk-item::before, #sk-container-id-2 div.sk-parallel-item::before {content: \"\";position: absolute;border-left: 1px solid gray;box-sizing: border-box;top: 0;bottom: 0;left: 50%;z-index: -1;}#sk-container-id-2 div.sk-parallel-item {display: flex;flex-direction: column;z-index: 1;position: relative;background-color: white;}#sk-container-id-2 div.sk-parallel-item:first-child::after {align-self: flex-end;width: 50%;}#sk-container-id-2 div.sk-parallel-item:last-child::after {align-self: flex-start;width: 50%;}#sk-container-id-2 div.sk-parallel-item:only-child::after {width: 0;}#sk-container-id-2 div.sk-dashed-wrapped {border: 1px dashed gray;margin: 0 0.4em 0.5em 0.4em;box-sizing: border-box;padding-bottom: 0.4em;background-color: white;}#sk-container-id-2 div.sk-label label {font-family: monospace;font-weight: bold;display: inline-block;line-height: 1.2em;}#sk-container-id-2 div.sk-label-container {text-align: center;}#sk-container-id-2 div.sk-container {/* jupyter's `normalize.less` sets `[hidden] { display: none; }` but bootstrap.min.css set `[hidden] { display: none !important; }` so we also need the `!important` here to be able to override the default hidden behavior on the sphinx rendered scikit-learn.org. See: https://github.com/scikit-learn/scikit-learn/issues/21755 */display: inline-block !important;position: relative;}#sk-container-id-2 div.sk-text-repr-fallback {display: none;}</style><div id=\"sk-container-id-2\" class=\"sk-top-container\"><div class=\"sk-text-repr-fallback\"><pre>LinearRegression()</pre><b>In a Jupyter environment, please rerun this cell to show the HTML representation or trust the notebook. <br />On GitHub, the HTML representation is unable to render, please try loading this page with nbviewer.org.</b></div><div class=\"sk-container\" hidden><div class=\"sk-item\"><div class=\"sk-estimator sk-toggleable\"><input class=\"sk-toggleable__control sk-hidden--visually\" id=\"sk-estimator-id-2\" type=\"checkbox\" checked><label for=\"sk-estimator-id-2\" class=\"sk-toggleable__label sk-toggleable__label-arrow\">LinearRegression</label><div class=\"sk-toggleable__content\"><pre>LinearRegression()</pre></div></div></div></div></div>"
      ],
      "text/plain": [
       "LinearRegression()"
      ]
     },
     "execution_count": 31,
     "metadata": {},
     "output_type": "execute_result"
    }
   ],
   "source": [
    "#run and fit the regression.\n",
    "\n",
    "regression = LinearRegression()  \n",
    "regression.fit(X_train_2, y_train_2)"
   ]
  },
  {
   "cell_type": "code",
   "execution_count": 32,
   "id": "b3c29a0c-9736-4dc5-8a0a-3be6b38c5894",
   "metadata": {},
   "outputs": [],
   "source": [
    "# Predict\n",
    "\n",
    "y_predicted_2 = regression.predict(X_test_2)"
   ]
  },
  {
   "cell_type": "code",
   "execution_count": 33,
   "id": "66f882b3-d582-4ce8-9321-7903f0e4aed7",
   "metadata": {},
   "outputs": [],
   "source": [
    "rmse = mean_squared_error(y_test_2, y_predicted_2)\n",
    "r2 = r2_score(y_test_2, y_predicted_2)"
   ]
  },
  {
   "cell_type": "code",
   "execution_count": 34,
   "id": "afa1b04c-16f1-43c6-ae39-78d244504b37",
   "metadata": {},
   "outputs": [
    {
     "name": "stdout",
     "output_type": "stream",
     "text": [
      "Slope: [[0.01474632]]\n",
      "Mean squared error:  13826297501.855669\n",
      "R2 score:  0.39062906501200567\n"
     ]
    }
   ],
   "source": [
    "print('Slope:' ,regression.coef_)\n",
    "print('Mean squared error: ', rmse)\n",
    "print('R2 score: ', r2)"
   ]
  },
  {
   "cell_type": "code",
   "execution_count": 35,
   "id": "aa850e89-1089-4755-a601-3cc4156074a2",
   "metadata": {},
   "outputs": [
    {
     "data": {
      "image/png": "[encoded data removed]",
      "text/plain": [
       "<Figure size 640x480 with 1 Axes>"
      ]
     },
     "metadata": {},
     "output_type": "display_data"
    }
   ],
   "source": [
    "# Visualizing the test set results.\n",
    "plot_test = plt\n",
    "plot_test.scatter(X_test_2, y_test_2, color='gray', s = 15)\n",
    "plot_test.plot(X_test_2, y_predicted_2, color='red', linewidth =3)\n",
    "plot_test.title('Number of Views vs Number of Likes (Test set)')\n",
    "plot_test.xlabel('Number of Views')\n",
    "plot_test.ylabel('Number of Likes')\n",
    "plot_test.show()"
   ]
  },
  {
   "cell_type": "code",
   "execution_count": 36,
   "id": "60091b9a-9b1c-4de4-92c7-300d7a7ec4d8",
   "metadata": {},
   "outputs": [
    {
     "data": {
      "text/html": [
       "<div>\n",
       "<style scoped>\n",
       "    .dataframe tbody tr th:only-of-type {\n",
       "        vertical-align: middle;\n",
       "    }\n",
       "\n",
       "    .dataframe tbody tr th {\n",
       "        vertical-align: top;\n",
       "    }\n",
       "\n",
       "    .dataframe thead th {\n",
       "        text-align: right;\n",
       "    }\n",
       "</style>\n",
       "<table border=\"1\" class=\"dataframe\">\n",
       "  <thead>\n",
       "    <tr style=\"text-align: right;\">\n",
       "      <th></th>\n",
       "      <th>Actual</th>\n",
       "      <th>Predicted</th>\n",
       "    </tr>\n",
       "  </thead>\n",
       "  <tbody>\n",
       "    <tr>\n",
       "      <th>0</th>\n",
       "      <td>330338</td>\n",
       "      <td>106465.198647</td>\n",
       "    </tr>\n",
       "    <tr>\n",
       "      <th>1</th>\n",
       "      <td>64676</td>\n",
       "      <td>62181.897516</td>\n",
       "    </tr>\n",
       "    <tr>\n",
       "      <th>2</th>\n",
       "      <td>587575</td>\n",
       "      <td>175700.136220</td>\n",
       "    </tr>\n",
       "    <tr>\n",
       "      <th>3</th>\n",
       "      <td>116584</td>\n",
       "      <td>131349.680327</td>\n",
       "    </tr>\n",
       "    <tr>\n",
       "      <th>4</th>\n",
       "      <td>4285</td>\n",
       "      <td>52992.622143</td>\n",
       "    </tr>\n",
       "    <tr>\n",
       "      <th>5</th>\n",
       "      <td>138911</td>\n",
       "      <td>81237.569995</td>\n",
       "    </tr>\n",
       "    <tr>\n",
       "      <th>6</th>\n",
       "      <td>4711</td>\n",
       "      <td>52590.622589</td>\n",
       "    </tr>\n",
       "    <tr>\n",
       "      <th>7</th>\n",
       "      <td>6698</td>\n",
       "      <td>54199.210657</td>\n",
       "    </tr>\n",
       "    <tr>\n",
       "      <th>8</th>\n",
       "      <td>492668</td>\n",
       "      <td>193988.365730</td>\n",
       "    </tr>\n",
       "    <tr>\n",
       "      <th>9</th>\n",
       "      <td>2140</td>\n",
       "      <td>54125.788707</td>\n",
       "    </tr>\n",
       "    <tr>\n",
       "      <th>10</th>\n",
       "      <td>175679</td>\n",
       "      <td>176860.789934</td>\n",
       "    </tr>\n",
       "    <tr>\n",
       "      <th>11</th>\n",
       "      <td>7602</td>\n",
       "      <td>61311.421977</td>\n",
       "    </tr>\n",
       "    <tr>\n",
       "      <th>12</th>\n",
       "      <td>95032</td>\n",
       "      <td>91904.043685</td>\n",
       "    </tr>\n",
       "    <tr>\n",
       "      <th>13</th>\n",
       "      <td>23035</td>\n",
       "      <td>57983.161778</td>\n",
       "    </tr>\n",
       "    <tr>\n",
       "      <th>14</th>\n",
       "      <td>132450</td>\n",
       "      <td>166336.706754</td>\n",
       "    </tr>\n",
       "    <tr>\n",
       "      <th>15</th>\n",
       "      <td>2866</td>\n",
       "      <td>52217.968221</td>\n",
       "    </tr>\n",
       "    <tr>\n",
       "      <th>16</th>\n",
       "      <td>320528</td>\n",
       "      <td>365984.437406</td>\n",
       "    </tr>\n",
       "    <tr>\n",
       "      <th>17</th>\n",
       "      <td>93352</td>\n",
       "      <td>76858.059064</td>\n",
       "    </tr>\n",
       "    <tr>\n",
       "      <th>18</th>\n",
       "      <td>537283</td>\n",
       "      <td>196172.001471</td>\n",
       "    </tr>\n",
       "    <tr>\n",
       "      <th>19</th>\n",
       "      <td>39677</td>\n",
       "      <td>79809.211505</td>\n",
       "    </tr>\n",
       "    <tr>\n",
       "      <th>20</th>\n",
       "      <td>37106</td>\n",
       "      <td>60070.150108</td>\n",
       "    </tr>\n",
       "    <tr>\n",
       "      <th>21</th>\n",
       "      <td>10323</td>\n",
       "      <td>54178.226637</td>\n",
       "    </tr>\n",
       "    <tr>\n",
       "      <th>22</th>\n",
       "      <td>17930</td>\n",
       "      <td>59122.831472</td>\n",
       "    </tr>\n",
       "    <tr>\n",
       "      <th>23</th>\n",
       "      <td>7404</td>\n",
       "      <td>57410.915907</td>\n",
       "    </tr>\n",
       "    <tr>\n",
       "      <th>24</th>\n",
       "      <td>27779</td>\n",
       "      <td>64209.812070</td>\n",
       "    </tr>\n",
       "    <tr>\n",
       "      <th>25</th>\n",
       "      <td>14169</td>\n",
       "      <td>58451.313344</td>\n",
       "    </tr>\n",
       "    <tr>\n",
       "      <th>26</th>\n",
       "      <td>576197</td>\n",
       "      <td>308494.298507</td>\n",
       "    </tr>\n",
       "    <tr>\n",
       "      <th>27</th>\n",
       "      <td>44082</td>\n",
       "      <td>60158.510084</td>\n",
       "    </tr>\n",
       "    <tr>\n",
       "      <th>28</th>\n",
       "      <td>311888</td>\n",
       "      <td>105642.383229</td>\n",
       "    </tr>\n",
       "    <tr>\n",
       "      <th>29</th>\n",
       "      <td>83083</td>\n",
       "      <td>71123.818042</td>\n",
       "    </tr>\n",
       "  </tbody>\n",
       "</table>\n",
       "</div>"
      ],
      "text/plain": [
       "    Actual      Predicted\n",
       "0   330338  106465.198647\n",
       "1    64676   62181.897516\n",
       "2   587575  175700.136220\n",
       "3   116584  131349.680327\n",
       "4     4285   52992.622143\n",
       "5   138911   81237.569995\n",
       "6     4711   52590.622589\n",
       "7     6698   54199.210657\n",
       "8   492668  193988.365730\n",
       "9     2140   54125.788707\n",
       "10  175679  176860.789934\n",
       "11    7602   61311.421977\n",
       "12   95032   91904.043685\n",
       "13   23035   57983.161778\n",
       "14  132450  166336.706754\n",
       "15    2866   52217.968221\n",
       "16  320528  365984.437406\n",
       "17   93352   76858.059064\n",
       "18  537283  196172.001471\n",
       "19   39677   79809.211505\n",
       "20   37106   60070.150108\n",
       "21   10323   54178.226637\n",
       "22   17930   59122.831472\n",
       "23    7404   57410.915907\n",
       "24   27779   64209.812070\n",
       "25   14169   58451.313344\n",
       "26  576197  308494.298507\n",
       "27   44082   60158.510084\n",
       "28  311888  105642.383229\n",
       "29   83083   71123.818042"
      ]
     },
     "execution_count": 36,
     "metadata": {},
     "output_type": "execute_result"
    }
   ],
   "source": [
    "data = pd.DataFrame({'Actual': y_test_2.flatten(), 'Predicted': y_predicted_2.flatten()})\n",
    "data.head(30)"
   ]
  }
 ],
 "metadata": {
  "kernelspec": {
   "display_name": "Python 3 (ipykernel)",
   "language": "python",
   "name": "python3"
  },
  "language_info": {
   "codemirror_mode": {
    "name": "ipython",
    "version": 3
   },
   "file_extension": ".py",
   "mimetype": "text/x-python",
   "name": "python",
   "nbconvert_exporter": "python",
   "pygments_lexer": "ipython3",
   "version": "3.11.5"
  }
 },
 "nbformat": 4,
 "nbformat_minor": 5
}
